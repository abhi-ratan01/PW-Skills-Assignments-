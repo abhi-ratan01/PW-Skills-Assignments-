{
 "cells": [
  {
   "cell_type": "markdown",
   "id": "fe9f5663-34fb-43e3-b54d-aa934382b1a9",
   "metadata": {},
   "source": [
    "# Assignment"
   ]
  },
  {
   "cell_type": "markdown",
   "id": "3506458d-bf6c-458f-9140-c02afbf8c317",
   "metadata": {},
   "source": [
    "## Q1, Create a vehicle class with an init method having instance variables as name_of_vehicle, max_speed and average_of_vehicle."
   ]
  },
  {
   "cell_type": "code",
   "execution_count": 1,
   "id": "df3ec023-159a-4e70-9cd9-5b8ed3be6e02",
   "metadata": {},
   "outputs": [],
   "source": [
    "class vehicle:\n",
    "    def __init__(self, name_of_vehicle, max_speed , average_of_vehicle):\n",
    "        self.name_of_vehicle = name_of_vehicle\n",
    "        self.max_speed = max_speed\n",
    "        self.average_of_vehicle = average_of_vehicle\n",
    "        \n",
    "obj = vehicle(\"Thar\", 200, 40)"
   ]
  },
  {
   "cell_type": "code",
   "execution_count": 3,
   "id": "e7374a2f-8fa5-4c18-8e11-8e1c2e5a16b4",
   "metadata": {},
   "outputs": [
    {
     "data": {
      "text/plain": [
       "'Thar'"
      ]
     },
     "execution_count": 3,
     "metadata": {},
     "output_type": "execute_result"
    }
   ],
   "source": [
    "obj.name_of_vehicle"
   ]
  },
  {
   "cell_type": "markdown",
   "id": "ea6dff6e-df82-4155-b1f7-28c8826cabd6",
   "metadata": {},
   "source": [
    "## Q2. Create a child class car from the vehicle class created in Que 1, which will inherit the vehicle class. Create a method named seating_capacity which takes capacity as an argument and returns the name of the vehicle and its seating capacity."
   ]
  },
  {
   "cell_type": "code",
   "execution_count": 9,
   "id": "ccd635d0-e7fc-4b08-a769-0d2c68cd237b",
   "metadata": {},
   "outputs": [],
   "source": [
    "class car(vehicle):\n",
    "    def seating_capacity(self, capacity):\n",
    "        self.capacity = capacity\n",
    "        return f'{self.name_of_vehicle} -> {capacity}'\n",
    "car_obj = car(\"Desire\" , 500, 40)"
   ]
  },
  {
   "cell_type": "code",
   "execution_count": 10,
   "id": "6382fd83-faa9-4249-a06f-c9e370e5b116",
   "metadata": {},
   "outputs": [
    {
     "data": {
      "text/plain": [
       "'Desire -> 6'"
      ]
     },
     "execution_count": 10,
     "metadata": {},
     "output_type": "execute_result"
    }
   ],
   "source": [
    "car_obj.seating_capacity(6)"
   ]
  },
  {
   "cell_type": "markdown",
   "id": "bc4fba87-ab97-4e64-bdc2-c736a6b4089b",
   "metadata": {},
   "source": [
    "## Q3. What is multiple inheritance? Write a python code to demonstrate multiple inheritance."
   ]
  },
  {
   "cell_type": "code",
   "execution_count": 43,
   "id": "8022a5d2-cfd5-41bd-8463-88b4d511872a",
   "metadata": {},
   "outputs": [],
   "source": [
    "class music_system:\n",
    "    def play_music(self, music_name):\n",
    "        self.music_name = music_name\n",
    "        return f'Playing Music......... \\n <<<<<<  {music_name}  >>>>>>'"
   ]
  },
  {
   "cell_type": "code",
   "execution_count": 44,
   "id": "3728fe1f-3d75-4030-b29d-9574f6f6c9b8",
   "metadata": {},
   "outputs": [],
   "source": [
    "class music_app(music_system):\n",
    "    def get_buy_rate(self):\n",
    "        return 12000000000"
   ]
  },
  {
   "cell_type": "code",
   "execution_count": 45,
   "id": "6a5e680f-be4d-4aa3-a29b-ae01b1546bc2",
   "metadata": {},
   "outputs": [],
   "source": [
    "music_obj = music_app()"
   ]
  },
  {
   "cell_type": "code",
   "execution_count": 46,
   "id": "e8df9ed6-2260-4d84-b29e-56c16276013f",
   "metadata": {},
   "outputs": [
    {
     "data": {
      "text/plain": [
       "12000000000"
      ]
     },
     "execution_count": 46,
     "metadata": {},
     "output_type": "execute_result"
    }
   ],
   "source": [
    "music_obj.get_buy_rate()"
   ]
  },
  {
   "cell_type": "code",
   "execution_count": 47,
   "id": "7d7813c5-99a5-4ede-a44c-420e1e6ac10a",
   "metadata": {},
   "outputs": [
    {
     "name": "stdout",
     "output_type": "stream",
     "text": [
      "Playing Music......... \n",
      " <<<<<<  Eleveted  >>>>>>\n"
     ]
    }
   ],
   "source": [
    "print(music_obj.play_music(\"Eleveted\"))"
   ]
  },
  {
   "cell_type": "markdown",
   "id": "cf62f4b0-6dbc-4b30-8240-86cd267559c9",
   "metadata": {},
   "source": [
    "## Q4. What are getter and setter in python? Create a class and create a getter and a setter method in this class."
   ]
  },
  {
   "cell_type": "code",
   "execution_count": 1,
   "id": "b7e4276f-895e-4d07-a581-9bd543de3f4f",
   "metadata": {},
   "outputs": [
    {
     "name": "stdout",
     "output_type": "stream",
     "text": [
      "12 4\n"
     ]
    }
   ],
   "source": [
    "class Point:\n",
    "    def __init__(self, a, b) -> None:\n",
    "        self.__a = a\n",
    "        self.__b = b\n",
    "\n",
    "    def get_a(self):\n",
    "        return self.__a\n",
    "\n",
    "    def get_b(self):\n",
    "        return self.__b\n",
    "\n",
    "    def set_a(self, value):\n",
    "        self.__a = value if value > 0 else -1\n",
    "\n",
    "    def set_b(self, value):\n",
    "        self.__b = value if value > 0 else -1\n",
    "\n",
    "\n",
    "p1 = Point(2, 4)\n",
    "p1.set_a(12)\n",
    "print(p1.get_a(), p1.get_b())"
   ]
  },
  {
   "cell_type": "markdown",
   "id": "cca44275-3a79-4db5-9201-71a2740b91fd",
   "metadata": {},
   "source": [
    "## Q5.What is method overriding in python? Write a python code to demonstrate method overriding."
   ]
  },
  {
   "cell_type": "code",
   "execution_count": 2,
   "id": "bbee7e18-2419-42b6-9d6d-bc565e9f6e9e",
   "metadata": {},
   "outputs": [
    {
     "name": "stdout",
     "output_type": "stream",
     "text": [
      "Inside Class1\n",
      "Inside Class2\n"
     ]
    }
   ],
   "source": [
    "class Class1():\n",
    "    def __init__(self):\n",
    "        self.value = \"Inside Class1\"\n",
    "\n",
    "    def show(self):\n",
    "        print(self.value)\n",
    "\n",
    "\n",
    "class Class2(Class1):\n",
    "    def __init__(self):\n",
    "        self.value = \"Inside Class2\"\n",
    "\n",
    "    def show(self):\n",
    "        print(self.value)\n",
    "\n",
    "\n",
    "obj1 = Class1()\n",
    "obj2 = Class2()\n",
    "\n",
    "obj1.show()\n",
    "obj2.show()"
   ]
  },
  {
   "cell_type": "code",
   "execution_count": null,
   "id": "9d1d51ab-bf71-4a5c-9c17-c4d76bf674b0",
   "metadata": {},
   "outputs": [],
   "source": []
  }
 ],
 "metadata": {
  "kernelspec": {
   "display_name": "Python 3 (ipykernel)",
   "language": "python",
   "name": "python3"
  },
  "language_info": {
   "codemirror_mode": {
    "name": "ipython",
    "version": 3
   },
   "file_extension": ".py",
   "mimetype": "text/x-python",
   "name": "python",
   "nbconvert_exporter": "python",
   "pygments_lexer": "ipython3",
   "version": "3.10.8"
  }
 },
 "nbformat": 4,
 "nbformat_minor": 5
}
