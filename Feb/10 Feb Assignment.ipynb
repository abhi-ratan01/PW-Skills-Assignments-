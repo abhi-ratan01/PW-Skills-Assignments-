{
 "cells": [
  {
   "cell_type": "markdown",
   "id": "ebd114ed-ebc6-4546-92eb-7b3baf16984c",
   "metadata": {},
   "source": [
    "# Assignment"
   ]
  },
  {
   "cell_type": "markdown",
   "id": "31778ab1-252a-483b-9070-5c48dcf0afaf",
   "metadata": {},
   "source": [
    "## Q1. Which function is used to open a file? What are the different modes of opening a file? Explain each mode of file opening."
   ]
  },
  {
   "cell_type": "markdown",
   "id": "e3e12a96-9967-4eab-81d8-6ad26a3ec02b",
   "metadata": {},
   "source": [
    "#### - Open() function."
   ]
  },
  {
   "cell_type": "markdown",
   "id": "278bb949-6c6e-4245-a2f9-4f1547ebb561",
   "metadata": {},
   "source": [
    "### There are many modes for opening a file:\n",
    "\n",
    "##### w - opens or create a text file in write mode"
   ]
  },
  {
   "cell_type": "code",
   "execution_count": 3,
   "id": "f1635fad-9ab3-40d8-909b-62b41437a8fe",
   "metadata": {},
   "outputs": [],
   "source": [
    "file = open(\"text.txt\", \"w\")"
   ]
  },
  {
   "cell_type": "code",
   "execution_count": 4,
   "id": "efed679a-a101-42b4-b356-886efa1dd53f",
   "metadata": {},
   "outputs": [
    {
     "data": {
      "text/plain": [
       "52"
      ]
     },
     "execution_count": 4,
     "metadata": {},
     "output_type": "execute_result"
    }
   ],
   "source": [
    "file.write(\"I it is a just text file for texting a file handling\")"
   ]
  },
  {
   "cell_type": "code",
   "execution_count": 5,
   "id": "f595ed2e-aacb-4992-9e66-46cd7992e650",
   "metadata": {},
   "outputs": [],
   "source": [
    "file.close()"
   ]
  },
  {
   "cell_type": "markdown",
   "id": "8ebba046-6a9c-47ef-ab50-a62dcd811a39",
   "metadata": {},
   "source": [
    "##### r - open a file in read mode"
   ]
  },
  {
   "cell_type": "code",
   "execution_count": 12,
   "id": "edbdc4d4-a9fb-4dee-9495-34fd26abe08b",
   "metadata": {},
   "outputs": [],
   "source": [
    "data = open(\"text.txt\", \"r\")"
   ]
  },
  {
   "cell_type": "code",
   "execution_count": 13,
   "id": "b4e82f1f-65e6-4454-b9dd-580463b3d216",
   "metadata": {},
   "outputs": [
    {
     "data": {
      "text/plain": [
       "'I it is a just text file for texting a file handling. \\n It is a append a line in file next line'"
      ]
     },
     "execution_count": 13,
     "metadata": {},
     "output_type": "execute_result"
    }
   ],
   "source": [
    "data.read()"
   ]
  },
  {
   "cell_type": "code",
   "execution_count": 14,
   "id": "02f04501-4223-4169-aa15-9853b00f3e24",
   "metadata": {},
   "outputs": [],
   "source": [
    "data.close()"
   ]
  },
  {
   "cell_type": "markdown",
   "id": "e4fbc459-084d-446e-ac40-2368982c74b8",
   "metadata": {},
   "source": [
    "##### a - opens a file in append mode"
   ]
  },
  {
   "cell_type": "code",
   "execution_count": 9,
   "id": "69f630fa-bc06-4b79-93b6-68685bf02b93",
   "metadata": {},
   "outputs": [],
   "source": [
    "append = open(\"text.txt\", \"a\")"
   ]
  },
  {
   "cell_type": "code",
   "execution_count": 10,
   "id": "f1c6d2f8-2eb0-4c42-8cbe-4ba2285f83bf",
   "metadata": {},
   "outputs": [
    {
     "data": {
      "text/plain": [
       "43"
      ]
     },
     "execution_count": 10,
     "metadata": {},
     "output_type": "execute_result"
    }
   ],
   "source": [
    "append.write(\". \\n It is a append a line in file next line\")"
   ]
  },
  {
   "cell_type": "code",
   "execution_count": 11,
   "id": "51849736-3192-4928-8cd3-6a0261d13a89",
   "metadata": {},
   "outputs": [],
   "source": [
    "append.close()"
   ]
  },
  {
   "cell_type": "markdown",
   "id": "a61cd732-c642-413d-b0e1-077452227e3e",
   "metadata": {
    "tags": []
   },
   "source": [
    "## Q2. Why close() function is used? Why is it important to close a file?"
   ]
  },
  {
   "cell_type": "markdown",
   "id": "c2d82c8a-47f4-4c72-a423-606791260d5c",
   "metadata": {},
   "source": [
    "### Close() function is used to close a opened file."
   ]
  },
  {
   "cell_type": "markdown",
   "id": "d373b28b-59ee-4e45-acaa-f366b87fb572",
   "metadata": {},
   "source": [
    "### You should always close your files, in some cases, due to buffering, changes made to a file may not show until you close the file."
   ]
  },
  {
   "cell_type": "markdown",
   "id": "cee4152d-0705-43d9-923b-ae4d98fb84eb",
   "metadata": {},
   "source": [
    "## Q3. Write a python program to create a text file. Write ‘I want to become a Data Scientist’ in that file. Then close the file. Open this file and read the content of the file."
   ]
  },
  {
   "cell_type": "code",
   "execution_count": 8,
   "id": "f17d05d3-a440-4fea-96eb-c699701c32bc",
   "metadata": {},
   "outputs": [],
   "source": [
    "f = open(\"text.txt\" , 'w')"
   ]
  },
  {
   "cell_type": "code",
   "execution_count": 9,
   "id": "091f67a2-75a3-4761-920c-03a747a3522c",
   "metadata": {},
   "outputs": [
    {
     "data": {
      "text/plain": [
       "33"
      ]
     },
     "execution_count": 9,
     "metadata": {},
     "output_type": "execute_result"
    }
   ],
   "source": [
    "f.write(\"I want to become a Data Scientist\")"
   ]
  },
  {
   "cell_type": "code",
   "execution_count": 10,
   "id": "2b2a924a-abf4-4939-8efa-9e8fab586d02",
   "metadata": {},
   "outputs": [],
   "source": [
    "f.close()"
   ]
  },
  {
   "cell_type": "code",
   "execution_count": 11,
   "id": "7285010f-68f9-48ae-b578-a7f81928b172",
   "metadata": {},
   "outputs": [],
   "source": [
    "file = open(\"text.txt\", 'r')"
   ]
  },
  {
   "cell_type": "code",
   "execution_count": 12,
   "id": "e9daa745-4ba4-4ac9-8c7e-0a2dbdde4003",
   "metadata": {},
   "outputs": [
    {
     "data": {
      "text/plain": [
       "'I want to become a Data Scientist'"
      ]
     },
     "execution_count": 12,
     "metadata": {},
     "output_type": "execute_result"
    }
   ],
   "source": [
    "file.read()"
   ]
  },
  {
   "cell_type": "markdown",
   "id": "2112ec90-4ec6-4794-ab9c-fc5ca89a8d70",
   "metadata": {},
   "source": [
    "## Q4. Explain the following with python code: read(), readline() and readlines()."
   ]
  },
  {
   "cell_type": "markdown",
   "id": "8e6aaaef-1d3d-4286-90c0-55dfb7fd7a6d",
   "metadata": {},
   "source": [
    "### read():\n",
    "####         In read function all the data of file show using this function."
   ]
  },
  {
   "cell_type": "code",
   "execution_count": 15,
   "id": "ef0bb314-1a50-43b0-b4a4-3b0eb579752f",
   "metadata": {},
   "outputs": [],
   "source": [
    "file = open(\"text2.txt\",\"w\")"
   ]
  },
  {
   "cell_type": "code",
   "execution_count": 17,
   "id": "fe3aec72-df73-47a6-8991-b8823c8b3654",
   "metadata": {},
   "outputs": [
    {
     "data": {
      "text/plain": [
       "887"
      ]
     },
     "execution_count": 17,
     "metadata": {},
     "output_type": "execute_result"
    }
   ],
   "source": [
    "file.write(\"Python is a high-level, general-purpose programming language.\\n Its design philosophy emphasizes code readability with the use of significant indentation.\\nPython is dynamically typed and garbage-collected.\\n It supports multiple programming paradigms, including structured (particularly procedural), object-oriented and functional programming.\\n It is often described as a 'batteries included' language due to its comprehensive standard library.\\nGuido van Rossum began working on \\n Python in the late 1980s as a successor to the ABC programming language and first released it in 1991 as Python 0.9.0.\\n Python 2.0 was released in 2000. Python 3.0, released in 2008, was a major revision not completely backward-compatible with earlier versions. Python 2.7.18, released in 2020, was the last release of Python 2.[37]\\nPython consistently ranks as one of the most popular programming languages.\")"
   ]
  },
  {
   "cell_type": "code",
   "execution_count": 18,
   "id": "4aaec170-68d0-49c4-b9bf-263d6b4a8871",
   "metadata": {},
   "outputs": [],
   "source": [
    "file.close()"
   ]
  },
  {
   "cell_type": "code",
   "execution_count": 20,
   "id": "8a6f255e-07ad-445f-ba3e-d26af5e9b911",
   "metadata": {},
   "outputs": [],
   "source": [
    "data = open(\"text2.txt\" , \"r\")"
   ]
  },
  {
   "cell_type": "code",
   "execution_count": 21,
   "id": "d3ec6032-65f1-4337-be65-e446fb250001",
   "metadata": {},
   "outputs": [
    {
     "data": {
      "text/plain": [
       "\"Python is a high-level, general-purpose programming language.\\n Its design philosophy emphasizes code readability with the use of significant indentation.\\nPython is dynamically typed and garbage-collected.\\n It supports multiple programming paradigms, including structured (particularly procedural), object-oriented and functional programming.\\n It is often described as a 'batteries included' language due to its comprehensive standard library.\\nGuido van Rossum began working on \\n Python in the late 1980s as a successor to the ABC programming language and first released it in 1991 as Python 0.9.0.\\n Python 2.0 was released in 2000. Python 3.0, released in 2008, was a major revision not completely backward-compatible with earlier versions. Python 2.7.18, released in 2020, was the last release of Python 2.[37]\\nPython consistently ranks as one of the most popular programming languages.\""
      ]
     },
     "execution_count": 21,
     "metadata": {},
     "output_type": "execute_result"
    }
   ],
   "source": [
    "# If we are use a read() function \n",
    "data.read()"
   ]
  },
  {
   "cell_type": "code",
   "execution_count": 24,
   "id": "2f5320c7-1cd3-48f3-8f8f-f15363e0b022",
   "metadata": {},
   "outputs": [
    {
     "data": {
      "text/plain": [
       "0"
      ]
     },
     "execution_count": 24,
     "metadata": {},
     "output_type": "execute_result"
    }
   ],
   "source": [
    "data.seek(0)\n",
    "#Seek(0) function for setting a curssor in initial(starting of file)"
   ]
  },
  {
   "cell_type": "markdown",
   "id": "d3e636d8-3daa-4a2b-991e-1023d99793ae",
   "metadata": {},
   "source": [
    "### readline():\n",
    "####    In readline function only one line show in using of this function. when \\n ('New line') which mean's this line is terminate."
   ]
  },
  {
   "cell_type": "code",
   "execution_count": 26,
   "id": "30a6ba1b-41c9-4a50-b45e-b4026337f0b0",
   "metadata": {},
   "outputs": [
    {
     "data": {
      "text/plain": [
       "' Its design philosophy emphasizes code readability with the use of significant indentation.\\n'"
      ]
     },
     "execution_count": 26,
     "metadata": {},
     "output_type": "execute_result"
    }
   ],
   "source": [
    "# If we are use a readline() function then \n",
    "data.readline()"
   ]
  },
  {
   "cell_type": "markdown",
   "id": "d9b838db-7929-44d8-aa24-b3af005efcec",
   "metadata": {},
   "source": [
    "### readlines():\n",
    "#### In readlines function all the data of file show in form of list. and a line is a element of that list."
   ]
  },
  {
   "cell_type": "code",
   "execution_count": 27,
   "id": "4afc24e5-c478-4210-bad3-18281f1098a6",
   "metadata": {},
   "outputs": [
    {
     "data": {
      "text/plain": [
       "['Python is dynamically typed and garbage-collected.\\n',\n",
       " ' It supports multiple programming paradigms, including structured (particularly procedural), object-oriented and functional programming.\\n',\n",
       " \" It is often described as a 'batteries included' language due to its comprehensive standard library.\\n\",\n",
       " 'Guido van Rossum began working on \\n',\n",
       " ' Python in the late 1980s as a successor to the ABC programming language and first released it in 1991 as Python 0.9.0.\\n',\n",
       " ' Python 2.0 was released in 2000. Python 3.0, released in 2008, was a major revision not completely backward-compatible with earlier versions. Python 2.7.18, released in 2020, was the last release of Python 2.[37]\\n',\n",
       " 'Python consistently ranks as one of the most popular programming languages.']"
      ]
     },
     "execution_count": 27,
     "metadata": {},
     "output_type": "execute_result"
    }
   ],
   "source": [
    "# And If we are use readlines() function then \n",
    "data.readlines()"
   ]
  },
  {
   "cell_type": "code",
   "execution_count": 28,
   "id": "38780cf3-01fd-467d-ac70-baeded21ec44",
   "metadata": {},
   "outputs": [],
   "source": [
    "data.close()"
   ]
  },
  {
   "cell_type": "code",
   "execution_count": 29,
   "id": "7ed11b9d-2b8a-48f6-95c4-9334d3708e65",
   "metadata": {},
   "outputs": [],
   "source": [
    "# close() function for closing a opend file and file closing is very important after working with a file."
   ]
  },
  {
   "cell_type": "markdown",
   "id": "18b6b6c7-731d-4367-94af-735dbf00c8f0",
   "metadata": {},
   "source": [
    "## Q5. Explain why with statement is used with open(). What is the advantage of using with statement and open() together?"
   ]
  },
  {
   "cell_type": "markdown",
   "id": "c782484d-ac33-411f-9eb0-2defb75d1d77",
   "metadata": {},
   "source": [
    "### To open a file And the with statement closes the file for you without you telling it to."
   ]
  },
  {
   "cell_type": "markdown",
   "id": "d8ea7f71-50e1-448f-9f0b-e7924393b275",
   "metadata": {},
   "source": [
    "### The with keyword in Python is used as a context manager.\n",
    "### It making sure to release these resources after usage\n",
    "####     i.e it make sure that file is closed after used"
   ]
  },
  {
   "cell_type": "markdown",
   "id": "4fd9377e-760e-442c-b009-0dcef11e5ed4",
   "metadata": {},
   "source": [
    "## Q6. Explain the write() and writelines() functions. Give a suitable example."
   ]
  },
  {
   "cell_type": "markdown",
   "id": "b2a62008-94d8-440b-94c4-47db217556eb",
   "metadata": {},
   "source": [
    "## write() \n",
    "### It is used to write a string to an already opened file"
   ]
  },
  {
   "cell_type": "code",
   "execution_count": 30,
   "id": "35a999ea-56ca-4961-8890-fe6a508e879f",
   "metadata": {},
   "outputs": [],
   "source": [
    "file = open(\"text3.txt\" ,'w' )\n",
    "file.write(\"Data Science Masters course\")\n",
    "file.close()"
   ]
  },
  {
   "cell_type": "markdown",
   "id": "43efb274-6486-4ca1-b651-2a8edd9e9374",
   "metadata": {},
   "source": [
    "## writelines() \n",
    "### This method is used to write a list of strings in an opened file"
   ]
  },
  {
   "cell_type": "code",
   "execution_count": 32,
   "id": "20e0d418-000c-4f61-be80-8910c52ff625",
   "metadata": {},
   "outputs": [],
   "source": [
    "f = open(\"demofile3.txt\", \"a\")\n",
    "f.writelines([\"See you soon!\", \"Over and out.\"])\n",
    "f.close()"
   ]
  },
  {
   "cell_type": "code",
   "execution_count": null,
   "id": "b63fc947-cddf-49a1-96fe-9dc3445e7b3c",
   "metadata": {},
   "outputs": [],
   "source": []
  }
 ],
 "metadata": {
  "kernelspec": {
   "display_name": "Python 3 (ipykernel)",
   "language": "python",
   "name": "python3"
  },
  "language_info": {
   "codemirror_mode": {
    "name": "ipython",
    "version": 3
   },
   "file_extension": ".py",
   "mimetype": "text/x-python",
   "name": "python",
   "nbconvert_exporter": "python",
   "pygments_lexer": "ipython3",
   "version": "3.10.8"
  }
 },
 "nbformat": 4,
 "nbformat_minor": 5
}
