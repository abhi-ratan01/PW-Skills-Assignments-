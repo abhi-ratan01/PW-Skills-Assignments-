{
 "cells": [
  {
   "cell_type": "markdown",
   "id": "0399fad2-64d0-452f-9dc6-0a8920953dad",
   "metadata": {},
   "source": [
    "# Assignment"
   ]
  },
  {
   "cell_type": "markdown",
   "id": "b4e299be-56b5-426b-b676-a84899e168cd",
   "metadata": {},
   "source": [
    "## Q1. What is Abstraction in OOps? Explain with an example."
   ]
  },
  {
   "cell_type": "markdown",
   "id": "f7d3e76d-e297-49ee-a768-fc8220e2b239",
   "metadata": {},
   "source": [
    "#### Abstraction is the process of hiding the internal details of an application from the outer world. In simple term it's used to create a boundary between the application and the client programs."
   ]
  },
  {
   "cell_type": "code",
   "execution_count": 5,
   "id": "3b5a99c5-6254-43b4-b122-a3975970002f",
   "metadata": {},
   "outputs": [],
   "source": [
    "import abc"
   ]
  },
  {
   "cell_type": "code",
   "execution_count": 6,
   "id": "a4bc1f3d-3390-4c56-b7e5-86e5f9864c3b",
   "metadata": {},
   "outputs": [],
   "source": [
    "class Btech:\n",
    "    \n",
    "    @abc.abstractmethod\n",
    "    def course_details(self):\n",
    "        pass\n",
    "    @abc.abstractmethod\n",
    "    def branch_name(self):\n",
    "        pass"
   ]
  },
  {
   "cell_type": "code",
   "execution_count": 7,
   "id": "bc9dbf7c-d063-4907-9569-8c596ba09016",
   "metadata": {},
   "outputs": [],
   "source": [
    "class cs(Btech):\n",
    "    \n",
    "    def course_details(self):\n",
    "        return \"This  student is a computer science engineering branch and his course details\"\n",
    "    \n",
    "    def branch_name(self):\n",
    "        return \"This is a cse student branch details\""
   ]
  },
  {
   "cell_type": "code",
   "execution_count": 8,
   "id": "f7119e12-7ba5-4e29-8143-a59421ab2b0d",
   "metadata": {},
   "outputs": [],
   "source": [
    "class AI(Btech):\n",
    "    \n",
    "    def course_details(self):\n",
    "        return \"This student is a AI branch and his course details\"\n",
    "    \n",
    "    def branch_name(self):\n",
    "        return \"This is a AI student branch details\""
   ]
  },
  {
   "cell_type": "code",
   "execution_count": 9,
   "id": "6bc02d8f-936a-4796-a25c-d4f53e163d6a",
   "metadata": {},
   "outputs": [],
   "source": [
    "CS = cs()"
   ]
  },
  {
   "cell_type": "code",
   "execution_count": 10,
   "id": "b9e2f487-7bd2-4f8b-8caa-cf14a40c9b90",
   "metadata": {},
   "outputs": [],
   "source": [
    "ai = AI()"
   ]
  },
  {
   "cell_type": "code",
   "execution_count": 11,
   "id": "b5dfe244-36aa-4150-8d55-4cae57acd197",
   "metadata": {},
   "outputs": [
    {
     "data": {
      "text/plain": [
       "'This  student is a computer science engineering branch and his course details'"
      ]
     },
     "execution_count": 11,
     "metadata": {},
     "output_type": "execute_result"
    }
   ],
   "source": [
    "CS.course_details()"
   ]
  },
  {
   "cell_type": "code",
   "execution_count": 12,
   "id": "4a3433d8-9cb4-4fdd-ab5e-2131f85a0df1",
   "metadata": {},
   "outputs": [
    {
     "data": {
      "text/plain": [
       "'This is a cse student branch details'"
      ]
     },
     "execution_count": 12,
     "metadata": {},
     "output_type": "execute_result"
    }
   ],
   "source": [
    "CS.branch_name()"
   ]
  },
  {
   "cell_type": "code",
   "execution_count": 13,
   "id": "b6a41375-32ef-4344-addd-5facb3752cae",
   "metadata": {},
   "outputs": [
    {
     "data": {
      "text/plain": [
       "'This student is a AI branch and his course details'"
      ]
     },
     "execution_count": 13,
     "metadata": {},
     "output_type": "execute_result"
    }
   ],
   "source": [
    "ai.course_details()"
   ]
  },
  {
   "cell_type": "code",
   "execution_count": 14,
   "id": "ce84f83d-a44e-4cbb-b82c-648515d7b4a6",
   "metadata": {},
   "outputs": [
    {
     "data": {
      "text/plain": [
       "'This is a AI student branch details'"
      ]
     },
     "execution_count": 14,
     "metadata": {},
     "output_type": "execute_result"
    }
   ],
   "source": [
    "ai.branch_name()"
   ]
  },
  {
   "cell_type": "markdown",
   "id": "bc7e1096-ea0f-4dde-a89d-d93c246e27e6",
   "metadata": {},
   "source": [
    "## Q2. Differentiate between Abstraction and Encapsulation. Explain with an example."
   ]
  },
  {
   "cell_type": "markdown",
   "id": "da52cd85-645a-407d-9187-16afea2c1689",
   "metadata": {},
   "source": [
    "#### Abstraction is hiding the details and implementation of the code. We can use abstraction using Interface and Abstract Class."
   ]
  },
  {
   "cell_type": "code",
   "execution_count": 3,
   "id": "cab5ca19-aa9d-4bd4-b8b2-254797600ee5",
   "metadata": {},
   "outputs": [],
   "source": [
    "import abc"
   ]
  },
  {
   "cell_type": "code",
   "execution_count": 4,
   "id": "4edce8c6-b880-4d89-bba2-21f0129511b8",
   "metadata": {},
   "outputs": [],
   "source": [
    "class Btech:\n",
    "    \n",
    "    @abc.abstractmethod\n",
    "    def course_details(self):\n",
    "        pass\n",
    "    @abc.abstractmethod\n",
    "    def branch_name(self):\n",
    "        pass"
   ]
  },
  {
   "cell_type": "code",
   "execution_count": 5,
   "id": "f0926256-3437-46ba-a16d-538df642fa9c",
   "metadata": {},
   "outputs": [],
   "source": [
    "class cs(Btech):\n",
    "    \n",
    "    def course_details(self):\n",
    "        return \"This  student is a computer science engineering branch and his course details\"\n",
    "    \n",
    "    def branch_name(self):\n",
    "        return \"This is a cse student branch details\""
   ]
  },
  {
   "cell_type": "code",
   "execution_count": 6,
   "id": "4993c1cb-3505-404e-b512-33450747415f",
   "metadata": {},
   "outputs": [],
   "source": [
    "CS = cs()"
   ]
  },
  {
   "cell_type": "code",
   "execution_count": 7,
   "id": "e5598ede-7076-4629-9eae-6fa181880fe0",
   "metadata": {},
   "outputs": [
    {
     "data": {
      "text/plain": [
       "'This  student is a computer science engineering branch and his course details'"
      ]
     },
     "execution_count": 7,
     "metadata": {},
     "output_type": "execute_result"
    }
   ],
   "source": [
    "CS.course_details()"
   ]
  },
  {
   "cell_type": "code",
   "execution_count": 8,
   "id": "3b7c288a-28f2-4d74-a96c-bad364a63658",
   "metadata": {},
   "outputs": [
    {
     "data": {
      "text/plain": [
       "'This is a cse student branch details'"
      ]
     },
     "execution_count": 8,
     "metadata": {},
     "output_type": "execute_result"
    }
   ],
   "source": [
    "CS.branch_name()"
   ]
  },
  {
   "cell_type": "markdown",
   "id": "deafa0fc-c21b-4fcd-9a91-aa7111ae14c6",
   "metadata": {},
   "source": [
    "#### Encapsulation is hiding the data and controlling the visibility of the code. We can implement encapsulation using Access Modifiers (Public, Protected & Private.)"
   ]
  },
  {
   "cell_type": "code",
   "execution_count": 23,
   "id": "8408716e-7226-46ba-aeac-ebcb10a8df0a",
   "metadata": {},
   "outputs": [],
   "source": [
    "class test:\n",
    "    \n",
    "    def __init__(self,name,gmail,mobile):\n",
    "        self.__name = name \n",
    "        self.__gmail = gmail\n",
    "        self.mobile_no = mobile"
   ]
  },
  {
   "cell_type": "code",
   "execution_count": 12,
   "id": "a06564e2-b376-4d7a-b0ae-be7db2d7ae20",
   "metadata": {},
   "outputs": [],
   "source": [
    "obj_test = test(\"Abhi\", \"abhi@gmail.com\", 741567370)"
   ]
  },
  {
   "cell_type": "code",
   "execution_count": 13,
   "id": "b2f78bac-c9bb-46a1-a8c3-3934f367be3a",
   "metadata": {},
   "outputs": [
    {
     "data": {
      "text/plain": [
       "741567370"
      ]
     },
     "execution_count": 13,
     "metadata": {},
     "output_type": "execute_result"
    }
   ],
   "source": [
    "obj_test.mobile_no"
   ]
  },
  {
   "cell_type": "code",
   "execution_count": 22,
   "id": "026c16cf-642e-4855-baeb-b3a2e23027c7",
   "metadata": {},
   "outputs": [
    {
     "ename": "AttributeError",
     "evalue": "'test' object has no attribute '__name'",
     "output_type": "error",
     "traceback": [
      "\u001b[0;31m---------------------------------------------------------------------------\u001b[0m",
      "\u001b[0;31mAttributeError\u001b[0m                            Traceback (most recent call last)",
      "Cell \u001b[0;32mIn[22], line 1\u001b[0m\n\u001b[0;32m----> 1\u001b[0m \u001b[43mobj_test\u001b[49m\u001b[38;5;241;43m.\u001b[39;49m\u001b[43m__name\u001b[49m\n",
      "\u001b[0;31mAttributeError\u001b[0m: 'test' object has no attribute '__name'"
     ]
    }
   ],
   "source": [
    "obj_test.__name"
   ]
  },
  {
   "cell_type": "code",
   "execution_count": 21,
   "id": "fac4e29f-8a68-430b-a6e4-e7e13d5dc542",
   "metadata": {},
   "outputs": [],
   "source": [
    "# we can't access a data by using a object of the class. That is a concept of Encapsulation."
   ]
  },
  {
   "cell_type": "markdown",
   "id": "b8e5dc74-7c1e-4980-a8ac-2324b8c5b6fb",
   "metadata": {},
   "source": [
    "## Q3. What is abc module in python? Why is it used?"
   ]
  },
  {
   "cell_type": "markdown",
   "id": "43221efb-e1da-4a61-a18d-f8e7c56bbe8c",
   "metadata": {},
   "source": [
    "####  This module provides the infrastructure for defining abstract base classes (ABCs) in Python, 'abc' works by marking methods of the base class as abstract. And it is use to create a abstract class ."
   ]
  },
  {
   "cell_type": "markdown",
   "id": "c688c592-e55f-462b-b2e7-58864b484bd4",
   "metadata": {},
   "source": [
    "## Q4. How can we achieve data abstraction?"
   ]
  },
  {
   "cell_type": "markdown",
   "id": "69b430b7-385e-45cb-8676-71864010f6c0",
   "metadata": {},
   "source": [
    "#### In Python, abstraction can be achieved by having/using abstract classes and methods in our programs."
   ]
  },
  {
   "cell_type": "markdown",
   "id": "3d342399-0a9e-49b2-b1fb-ad3e123d87f4",
   "metadata": {},
   "source": [
    "## Q5. Can we create an instance of an abstract class? Explain your answer."
   ]
  },
  {
   "cell_type": "markdown",
   "id": "4a328923-8941-4ad1-b555-e22878db533f",
   "metadata": {},
   "source": [
    "#### Abstract classes cannot be instantiated, but they can be subclassed. When an abstract class is subclassed, the subclass usually provides implementations for all of the abstract methods in its parent class. However, if it does not, then the subclass must also be declared abstract ."
   ]
  }
 ],
 "metadata": {
  "kernelspec": {
   "display_name": "Python 3 (ipykernel)",
   "language": "python",
   "name": "python3"
  },
  "language_info": {
   "codemirror_mode": {
    "name": "ipython",
    "version": 3
   },
   "file_extension": ".py",
   "mimetype": "text/x-python",
   "name": "python",
   "nbconvert_exporter": "python",
   "pygments_lexer": "ipython3",
   "version": "3.10.8"
  }
 },
 "nbformat": 4,
 "nbformat_minor": 5
}
