{
 "cells": [
  {
   "cell_type": "markdown",
   "id": "e34497aa-eaf5-4fa3-8e42-388e3b8da314",
   "metadata": {},
   "source": [
    "# Assignment"
   ]
  },
  {
   "cell_type": "markdown",
   "id": "6cde9bc5-47cd-4d70-9917-2e4baf420cc0",
   "metadata": {},
   "source": [
    "## Q1. You are writing code for a company. The requirement of the company is that you create a python function that will check whether the password entered by the user is correct or not. The function should take the password as input and return the string “Valid Password” if the entered password follows the below-given password guidelines else it should return “Invalid Password”.\n",
    "\n",
    "\n",
    "### Note: 1. The Password should contain at least two uppercase letters and at least two lowercase letters.\n",
    "\n",
    "### 2. The Password should contain at least a number and three special characters.\n",
    "\n",
    "### 3. The length of the password should be 10 characters long."
   ]
  },
  {
   "cell_type": "code",
   "execution_count": 1,
   "id": "cf1906ac-7527-466e-ae85-84f8f59477e1",
   "metadata": {},
   "outputs": [
    {
     "name": "stdout",
     "output_type": "stream",
     "text": [
      "ABc123./@dx$#abx%^a2  =  Valid Password\n",
      "adiu231$029AJY#-dj  =  Invalid Password\n",
      "ABcd12./#klajf23&  =  Valid Password\n"
     ]
    }
   ],
   "source": [
    "def check_password(password: str):\n",
    "    special_chars = \"[@_!#$%^&*()<>?/|}{~:]\"\n",
    "\n",
    "    cap = num = char = length = 0\n",
    "    for i in password:\n",
    "        if i.isupper() or i.islower():\n",
    "            cap += 1\n",
    "        elif i.isdigit():\n",
    "            num += 1\n",
    "        elif i in special_chars:\n",
    "            char += 1\n",
    "        else:\n",
    "            continue\n",
    "    \n",
    "    if cap >= 4 and num >= 1 and char >= 3 and len(password) >= 10:\n",
    "        return 'Valid Password'\n",
    "    else:\n",
    "        return 'Invalid Password'\n",
    "\n",
    "pass1 = 'ABc123./@dx$#abx%^a2'\n",
    "pass2 = 'adiu231$029AJY#-dj'\n",
    "pass3 = 'ABcd12./#klajf23&'\n",
    "\n",
    "print(pass1, ' = ', check_password(pass1))\n",
    "print(pass2, ' = ', check_password(pass2))\n",
    "print(pass3, ' = ', check_password(pass3))"
   ]
  },
  {
   "cell_type": "markdown",
   "id": "fcc43556-e5a0-497f-80ed-0a262a867b34",
   "metadata": {},
   "source": [
    "## Q2. Solve the below-given questions using at least one of the following: \n",
    "\n",
    "### 1. Lambda function\n",
    "### 2. Filter function\n",
    "### 3. Map function\n",
    "### 4. List Comprehension"
   ]
  },
  {
   "cell_type": "markdown",
   "id": "b9d96820-4a5a-41e7-873d-92f62e95eee8",
   "metadata": {},
   "source": [
    "### -> Check if the string starts with a particular letter"
   ]
  },
  {
   "cell_type": "code",
   "execution_count": 4,
   "id": "b4378429-4849-4202-820b-aa23c00edfc0",
   "metadata": {},
   "outputs": [],
   "source": [
    "string = lambda x,y:True if x[0] == y[0] else False"
   ]
  },
  {
   "cell_type": "code",
   "execution_count": 5,
   "id": "6d4b8c9e-35ec-425d-9542-2b4c14251270",
   "metadata": {},
   "outputs": [
    {
     "data": {
      "text/plain": [
       "True"
      ]
     },
     "execution_count": 5,
     "metadata": {},
     "output_type": "execute_result"
    }
   ],
   "source": [
    "string(\"Abhi\",\"A\")"
   ]
  },
  {
   "cell_type": "markdown",
   "id": "fbbd7e03-e25a-40fb-99d9-4ba521adef0c",
   "metadata": {},
   "source": [
    "### -> Check if the string is numeric"
   ]
  },
  {
   "cell_type": "code",
   "execution_count": 6,
   "id": "37c776c2-61ff-45d6-a8a0-ec8d90aff545",
   "metadata": {},
   "outputs": [],
   "source": [
    "numeric = lambda s: s.isnumeric()"
   ]
  },
  {
   "cell_type": "code",
   "execution_count": 7,
   "id": "4abd9dea-c5c0-498e-ac17-caa8c4c4b99a",
   "metadata": {},
   "outputs": [
    {
     "data": {
      "text/plain": [
       "False"
      ]
     },
     "execution_count": 7,
     "metadata": {},
     "output_type": "execute_result"
    }
   ],
   "source": [
    "numeric(\"Abhi\")"
   ]
  },
  {
   "cell_type": "markdown",
   "id": "d4cfe41c-0b32-4cd1-a40d-5f26719d2e8d",
   "metadata": {},
   "source": [
    "### -> Sort a list of tuples having fruit names and their quantity. [(\"mango\",99),(\"orange\",80), (\"grapes\", 1000)]"
   ]
  },
  {
   "cell_type": "code",
   "execution_count": 8,
   "id": "9d7362d8-e49d-43e6-a035-d8549ef8a154",
   "metadata": {},
   "outputs": [],
   "source": [
    "l = [(\"mango\",99),(\"orange\",80), (\"grapes\", 1000)]\n",
    "l.sort(key = lambda x:x[1])"
   ]
  },
  {
   "cell_type": "code",
   "execution_count": 9,
   "id": "a7237c9f-08b4-439c-9165-a48edaa23647",
   "metadata": {},
   "outputs": [
    {
     "data": {
      "text/plain": [
       "[('orange', 80), ('mango', 99), ('grapes', 1000)]"
      ]
     },
     "execution_count": 9,
     "metadata": {},
     "output_type": "execute_result"
    }
   ],
   "source": [
    "l"
   ]
  },
  {
   "cell_type": "markdown",
   "id": "15f8251c-8cc5-4b87-837d-f188bcf089ca",
   "metadata": {},
   "source": [
    "### -> Find the squares of numbers from 1 to 10"
   ]
  },
  {
   "cell_type": "code",
   "execution_count": 20,
   "id": "367f9ee5-a4e9-409d-99e7-6952b72f26fb",
   "metadata": {},
   "outputs": [],
   "source": [
    "data = lambda x:x**2"
   ]
  },
  {
   "cell_type": "code",
   "execution_count": 22,
   "id": "8e1201b3-91a5-4d51-8a71-9bcdfd31427f",
   "metadata": {},
   "outputs": [],
   "source": [
    "l1 = []\n",
    "for i in range(1,11):\n",
    "    l1.append(data(i))"
   ]
  },
  {
   "cell_type": "code",
   "execution_count": 23,
   "id": "fff4a49b-ea06-4372-b51d-87d2364e92df",
   "metadata": {},
   "outputs": [
    {
     "data": {
      "text/plain": [
       "[1, 4, 9, 16, 25, 36, 49, 64, 81, 100]"
      ]
     },
     "execution_count": 23,
     "metadata": {},
     "output_type": "execute_result"
    }
   ],
   "source": [
    "l1"
   ]
  },
  {
   "cell_type": "markdown",
   "id": "1466d3d8-012e-4498-b130-f35f6638e28b",
   "metadata": {},
   "source": [
    "### -> Find the cube root of numbers from 1 to 10"
   ]
  },
  {
   "cell_type": "code",
   "execution_count": 24,
   "id": "30441b9a-9343-42be-8993-f51572998ab1",
   "metadata": {},
   "outputs": [],
   "source": [
    "data = lambda x:x**3"
   ]
  },
  {
   "cell_type": "code",
   "execution_count": 28,
   "id": "5d4eedfe-477e-4ed8-871f-814250f9112c",
   "metadata": {},
   "outputs": [],
   "source": [
    "l = []\n",
    "for i in range(1,11):\n",
    "    l.append(data(i))"
   ]
  },
  {
   "cell_type": "code",
   "execution_count": 29,
   "id": "2b9a9e94-4917-498f-83cf-151a5c6c8db0",
   "metadata": {},
   "outputs": [
    {
     "data": {
      "text/plain": [
       "[1, 8, 27, 64, 125, 216, 343, 512, 729, 1000]"
      ]
     },
     "execution_count": 29,
     "metadata": {},
     "output_type": "execute_result"
    }
   ],
   "source": [
    "l"
   ]
  },
  {
   "cell_type": "markdown",
   "id": "c1219ced-cca4-4e65-894b-7b5b6d06f24e",
   "metadata": {},
   "source": [
    "### -> Check if a given number is even"
   ]
  },
  {
   "cell_type": "code",
   "execution_count": 42,
   "id": "c7c802ce-49ee-44b7-a9a6-161399d66dcd",
   "metadata": {},
   "outputs": [],
   "source": [
    "num = lambda x:\"Number is Even\" if x%2==0 else \"Number has not even\""
   ]
  },
  {
   "cell_type": "code",
   "execution_count": 43,
   "id": "8ee0d4a0-f3d8-40ba-8fdf-aa9870203fe5",
   "metadata": {},
   "outputs": [
    {
     "name": "stdin",
     "output_type": "stream",
     "text": [
      " 6\n"
     ]
    },
    {
     "data": {
      "text/plain": [
       "'Number is Even'"
      ]
     },
     "execution_count": 80,
     "metadata": {},
     "output_type": "execute_result"
    }
   ],
   "source": [
    "num(int(input))"
   ]
  },
  {
   "cell_type": "markdown",
   "id": "f719b6d8-8170-4162-9538-308e2cb20f4e",
   "metadata": {},
   "source": [
    "### -> Filter odd numbers from the given list.[1,2,3,4,5,6,7,8,9,10]"
   ]
  },
  {
   "cell_type": "code",
   "execution_count": 100,
   "id": "0de168d9-d4d0-4d5a-b595-4879b12c2d11",
   "metadata": {},
   "outputs": [],
   "source": [
    "l = [1,2,3,4,5,6,7,8,9,10]"
   ]
  },
  {
   "cell_type": "code",
   "execution_count": 101,
   "id": "d1787992-91a7-4520-af9f-2be16edf55fb",
   "metadata": {},
   "outputs": [],
   "source": [
    "odd = lambda x:x if x%2==1 else ''"
   ]
  },
  {
   "cell_type": "code",
   "execution_count": 102,
   "id": "0df7cc70-edf2-4c0a-b946-253d4e475927",
   "metadata": {},
   "outputs": [],
   "source": [
    "odd_list = []\n",
    "for i in l:\n",
    "    if odd(i) == '':\n",
    "        continue\n",
    "    else:\n",
    "        odd_list.append(odd(i))"
   ]
  },
  {
   "cell_type": "code",
   "execution_count": 103,
   "id": "0a0e84de-ab72-47e3-9638-85ef9a16e2fc",
   "metadata": {},
   "outputs": [
    {
     "data": {
      "text/plain": [
       "[1, 3, 5, 7, 9]"
      ]
     },
     "execution_count": 103,
     "metadata": {},
     "output_type": "execute_result"
    }
   ],
   "source": [
    "odd_list"
   ]
  },
  {
   "cell_type": "code",
   "execution_count": null,
   "id": "bcadabdb-a8ae-4039-934b-10332466898c",
   "metadata": {},
   "outputs": [],
   "source": []
  },
  {
   "cell_type": "markdown",
   "id": "91a02ea3-b083-4cd4-94b7-262acfe88061",
   "metadata": {},
   "source": [
    "### -> Sort a list of integers into positive and negative integers lists.[1,2,3,4,5,6,-1,-2,-3,-4,-5,0]"
   ]
  },
  {
   "cell_type": "code",
   "execution_count": 7,
   "id": "6cef30ac-9c63-45a2-9173-51b8861ac8e9",
   "metadata": {},
   "outputs": [],
   "source": [
    "l = [1,2,3,4,5,6,-1,-2,-3,-4,-5,0]"
   ]
  },
  {
   "cell_type": "code",
   "execution_count": 20,
   "id": "dd37a077-475d-475b-8c02-c612ec96e705",
   "metadata": {},
   "outputs": [],
   "source": [
    "negetive_list = list(filter(lambda x:x<0 , l))\n",
    "positive_list = list(filter(lambda x: x>=0, l))"
   ]
  },
  {
   "cell_type": "code",
   "execution_count": 21,
   "id": "b108683f-ff6f-4da0-9aec-4a1833baa1d2",
   "metadata": {},
   "outputs": [
    {
     "data": {
      "text/plain": [
       "[-1, -2, -3, -4, -5]"
      ]
     },
     "execution_count": 21,
     "metadata": {},
     "output_type": "execute_result"
    }
   ],
   "source": [
    "negetive_list"
   ]
  },
  {
   "cell_type": "code",
   "execution_count": 27,
   "id": "1b4e41e7-6eed-4cdb-aa83-04de8014d934",
   "metadata": {},
   "outputs": [],
   "source": [
    "positive_list.sort()"
   ]
  },
  {
   "cell_type": "code",
   "execution_count": 28,
   "id": "edff2c79-4d5b-4d34-873d-dbbc9bcf2440",
   "metadata": {},
   "outputs": [
    {
     "data": {
      "text/plain": [
       "[0, 1, 2, 3, 4, 5, 6]"
      ]
     },
     "execution_count": 28,
     "metadata": {},
     "output_type": "execute_result"
    }
   ],
   "source": [
    "positive_list"
   ]
  },
  {
   "cell_type": "code",
   "execution_count": null,
   "id": "772f4543-64d1-4f93-a6c6-9b6e91dea855",
   "metadata": {},
   "outputs": [],
   "source": []
  }
 ],
 "metadata": {
  "kernelspec": {
   "display_name": "Python 3 (ipykernel)",
   "language": "python",
   "name": "python3"
  },
  "language_info": {
   "codemirror_mode": {
    "name": "ipython",
    "version": 3
   },
   "file_extension": ".py",
   "mimetype": "text/x-python",
   "name": "python",
   "nbconvert_exporter": "python",
   "pygments_lexer": "ipython3",
   "version": "3.10.8"
  }
 },
 "nbformat": 4,
 "nbformat_minor": 5
}
