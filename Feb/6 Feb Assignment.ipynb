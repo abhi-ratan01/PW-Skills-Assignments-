{
 "cells": [
  {
   "cell_type": "markdown",
   "id": "d4517e5d-be58-4439-b8c9-fe055aee4fb2",
   "metadata": {},
   "source": [
    "# Assignment"
   ]
  },
  {
   "cell_type": "markdown",
   "id": "108daf6c-c335-4d6d-96a1-536ad80ec176",
   "metadata": {},
   "source": [
    "## Q1. Create a function which will take a list as an argument and return the product of all the numbers after creating a flat list.\n",
    "## Use the below-given list as an argument for your function.\n",
    "\n",
    "\n",
    "### list1 = [1,2,3,4, [44,55,66, True], False, (34,56,78,89,34), {1,2,3,3,2,1}, {1:34, \"key2\": [55, 67, 78, 89], 4: (45, 22, 61, 34)}, [56, 'data science'], 'Machine Learning']\n",
    "\n",
    "\n",
    "### Note: you must extract numeric keys and values of the dictionary also."
   ]
  },
  {
   "cell_type": "code",
   "execution_count": 74,
   "id": "1418eac9-34ab-4831-beda-0bf4af057ffb",
   "metadata": {},
   "outputs": [],
   "source": [
    "def product(l):\n",
    "    l1 = []\n",
    "    for i in l:\n",
    "        if type(i) == int:\n",
    "            l1.append(i)\n",
    "        elif type(i) == list or type(i) == tuple or type(i) == set:\n",
    "            for j in i:\n",
    "                if type(j)==int:\n",
    "                    l1.append(j)\n",
    "        elif type(i) == dict:\n",
    "            for j in i:\n",
    "                if type(j)==int:\n",
    "                    l1.append(j)\n",
    "                values = i[j]\n",
    "                if type(values)== int:\n",
    "                    l1.append(values)\n",
    "                elif type(values)==list or type(values)== tuple:\n",
    "                    for k in values:\n",
    "                        if type(k) == int:\n",
    "                             l1.append(k)\n",
    "    temp = 1\n",
    "    for i in l1:\n",
    "        temp = temp *i\n",
    "    return temp"
   ]
  },
  {
   "cell_type": "code",
   "execution_count": 75,
   "id": "3b1c762a-ab9a-4663-a532-e6c17736c1f8",
   "metadata": {},
   "outputs": [
    {
     "name": "stdout",
     "output_type": "stream",
     "text": [
      "4134711838987085478833841242112000\n"
     ]
    }
   ],
   "source": [
    "list1 = [1,2,3,4, [44,55,66, True], False, (34,56,78,89,34), {1,2,3,3,2,1}, {1:34, \"key2\": [55, 67, 78, 89], 4: (45, 22, 61, 34)}, [56, 'data science'], 'Machine Learning']\n",
    "print(product(list1))"
   ]
  },
  {
   "cell_type": "markdown",
   "id": "9ef39e38-0f25-4af0-a948-d95c97257a5c",
   "metadata": {},
   "source": [
    "## Q2. Write a python program for encrypting a message sent to you by your friend. The logic of encryption should be such that, for a the output should be z. For b, the output should be y. For c, the output should be x respectively. Also, the whitespace should be replaced with a dollar sign. Keep the punctuation marks unchanged.\n",
    "\n",
    "\n",
    "## Input Sentence: I want to become a Data Scientist.\n",
    "\n",
    "\n",
    "### Encrypt the above input sentence using the program you just created.\n",
    "\n",
    "\n",
    "### Note: Convert the given input sentence into lowercase before encrypting. The final output should be lowercase."
   ]
  },
  {
   "cell_type": "code",
   "execution_count": 86,
   "id": "0a639fe4-293e-4d58-abd8-12af207405df",
   "metadata": {},
   "outputs": [],
   "source": [
    "def encrypting(message):\n",
    "    \n",
    "    message = message.lower()\n",
    "    new_str = ''\n",
    "    for i in message:\n",
    "        letter = i\n",
    "        if 96<= ord(i)<=122:\n",
    "            letter = chr(122 - (ord(i) - 97))\n",
    "        elif i == ' ':\n",
    "            letter = '$'\n",
    "        new_str  = new_str + letter\n",
    "    return new_str\n",
    "    "
   ]
  },
  {
   "cell_type": "code",
   "execution_count": 87,
   "id": "7ecb1561-aa99-44d1-babb-aa68b93f69b7",
   "metadata": {},
   "outputs": [
    {
     "name": "stdout",
     "output_type": "stream",
     "text": [
      "r$dzmg$gl$yvxlnv$z$wzgz$hxrvmgrhg.\n"
     ]
    }
   ],
   "source": [
    "s =  \"I want to become a Data Scientist.\"\n",
    "print(encrypting(s))"
   ]
  },
  {
   "cell_type": "code",
   "execution_count": null,
   "id": "922fb9d3-c7a6-433f-9c97-0c03d2942da4",
   "metadata": {},
   "outputs": [],
   "source": []
  },
  {
   "cell_type": "code",
   "execution_count": null,
   "id": "843f2d16-7eee-4db7-9ffe-a921470176bd",
   "metadata": {},
   "outputs": [],
   "source": []
  }
 ],
 "metadata": {
  "kernelspec": {
   "display_name": "Python 3 (ipykernel)",
   "language": "python",
   "name": "python3"
  },
  "language_info": {
   "codemirror_mode": {
    "name": "ipython",
    "version": 3
   },
   "file_extension": ".py",
   "mimetype": "text/x-python",
   "name": "python",
   "nbconvert_exporter": "python",
   "pygments_lexer": "ipython3",
   "version": "3.10.8"
  }
 },
 "nbformat": 4,
 "nbformat_minor": 5
}
