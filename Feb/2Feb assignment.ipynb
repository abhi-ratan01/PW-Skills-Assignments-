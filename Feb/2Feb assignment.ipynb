{
 "cells": [
  {
   "cell_type": "markdown",
   "id": "c3e503e6-51d0-488c-aa68-3e3e1c85308b",
   "metadata": {},
   "source": [
    "# Assignment"
   ]
  },
  {
   "cell_type": "markdown",
   "id": "b3b36480-6076-4e29-ab14-7087213d7e99",
   "metadata": {},
   "source": [
    "## Q1.  Explain with an example each when to use a for loop and a while loop."
   ]
  },
  {
   "cell_type": "markdown",
   "id": "aa0280d2-3bd0-4ec4-8db8-4c8f815568fe",
   "metadata": {},
   "source": [
    "### For Loop =>\n",
    "    A for loop is a control flow statement that executes code for a predefined number of iterations.\n",
    "    The keyword used in this control flow statement is “for”. \n",
    "    When the number of iterations is already known, the for loop is used."
   ]
  },
  {
   "cell_type": "markdown",
   "id": "02c9f52f-6bdc-472b-9f2d-caf1b750dcd3",
   "metadata": {},
   "source": [
    "### Ex.\n",
    "         var_Initialization\n",
    "         for var1 in var2/range():\n",
    "            statements() # Body of loop\n"
   ]
  },
  {
   "cell_type": "markdown",
   "id": "effd9292-0f59-478f-afa2-585346468e61",
   "metadata": {},
   "source": [
    "Program"
   ]
  },
  {
   "cell_type": "code",
   "execution_count": 1,
   "id": "76d910f7-bd6e-414e-a26a-4155060da481",
   "metadata": {},
   "outputs": [
    {
     "name": "stdout",
     "output_type": "stream",
     "text": [
      "2\n",
      "4\n",
      "6\n",
      "8\n",
      "10\n",
      "12\n",
      "14\n",
      "16\n",
      "18\n",
      "20\n"
     ]
    }
   ],
   "source": [
    "for i in range(2,21,2):\n",
    "    print(i)"
   ]
  },
  {
   "cell_type": "markdown",
   "id": "9b15666f-eebd-481d-8ede-ee012f515808",
   "metadata": {},
   "source": [
    "### While Loop =>\n",
    "    A loop that executes a single statement or a group of statements for the given true condition.\n",
    "    The keyword used to represent this loop is \"while\". \n",
    "    A \"while\" loop is used when the number of iterations is unknown."
   ]
  },
  {
   "cell_type": "markdown",
   "id": "897607b0-5fbd-4892-b86c-bbfc18d703a3",
   "metadata": {},
   "source": [
    "## Ex.\n",
    "        var_Initialization\n",
    "        while Condition:\n",
    "            statements() # Body of loop"
   ]
  },
  {
   "cell_type": "markdown",
   "id": "268b3cdd-3ca7-485f-a003-a3959278aeec",
   "metadata": {},
   "source": [
    "Program"
   ]
  },
  {
   "cell_type": "code",
   "execution_count": 2,
   "id": "6830df91-fb3a-4907-8540-73c265f5edbd",
   "metadata": {},
   "outputs": [
    {
     "name": "stdout",
     "output_type": "stream",
     "text": [
      "2\n",
      "4\n",
      "6\n",
      "8\n",
      "10\n",
      "12\n",
      "14\n",
      "16\n",
      "18\n",
      "20\n"
     ]
    }
   ],
   "source": [
    "i = 2\n",
    "result = 1\n",
    "while result <= 10:\n",
    "    print(result*i)\n",
    "    result+=1"
   ]
  },
  {
   "cell_type": "markdown",
   "id": "e8d2db9c-6940-4de2-af99-6672577e5aaa",
   "metadata": {},
   "source": [
    "## Q2. Write a python program to print the sum and product of the first 10 natural numbers using for and while loop"
   ]
  },
  {
   "cell_type": "markdown",
   "id": "1e9b1a06-0942-457f-be19-838f2f1b9223",
   "metadata": {},
   "source": [
    "### For Loop"
   ]
  },
  {
   "cell_type": "code",
   "execution_count": 10,
   "id": "6aa0584f-5421-470d-941c-8c11c540c125",
   "metadata": {},
   "outputs": [
    {
     "name": "stdout",
     "output_type": "stream",
     "text": [
      "Sum =  55\n",
      "Product =  3628800\n"
     ]
    }
   ],
   "source": [
    "result = 0\n",
    "product = 1\n",
    "for i in range(1,11):\n",
    "    result = result + i\n",
    "    product = product * i\n",
    "print('Sum = ',result)\n",
    "print('Product = ',product)"
   ]
  },
  {
   "cell_type": "markdown",
   "id": "414327fe-34df-4d52-a9b2-c748dd35eeb4",
   "metadata": {},
   "source": [
    "### While Loop"
   ]
  },
  {
   "cell_type": "code",
   "execution_count": 16,
   "id": "82e2b64e-47a3-4d0d-8465-150e4899c2eb",
   "metadata": {},
   "outputs": [
    {
     "name": "stdout",
     "output_type": "stream",
     "text": [
      "Sum =  55\n",
      "Product =  3628800\n"
     ]
    }
   ],
   "source": [
    "num = 1\n",
    "result = 0\n",
    "product = 1\n",
    "while num <= 10:\n",
    "    result = result + num\n",
    "    product = product * num\n",
    "    num = num + 1\n",
    "print('Sum = ', result)\n",
    "print('Product = ', product)"
   ]
  },
  {
   "cell_type": "markdown",
   "id": "fd6d81e7-6799-4e8c-b153-02c2ef23ae66",
   "metadata": {},
   "source": [
    "## Q3. Create a python program to compute the electricity bill for a household.\n",
    "## The per-unit charges in rupees are as follows: For the first 100 units, the user will be charged Rs. 4.5 per unit, for the next 100 units, the user will be charged Rs. 6 per unit, and for the next 100 units, the user will be charged Rs. 10 per unit, After 300 units and above the user will be charged Rs. 20 per unit.\n",
    "## You are required to take the units of electricity consumed in a month from the user as input.\n",
    "## Your program must pass this test case: when the unit of electricity consumed by the user in a month is 310, the total electricity bill should be 2250."
   ]
  },
  {
   "cell_type": "code",
   "execution_count": 21,
   "id": "894831d7-4d3e-4ea6-8cf9-85c50cd108f6",
   "metadata": {},
   "outputs": [
    {
     "name": "stdin",
     "output_type": "stream",
     "text": [
      "Enter a used Electricity in Unit: 310\n"
     ]
    },
    {
     "data": {
      "text/plain": [
       "2250.0"
      ]
     },
     "execution_count": 21,
     "metadata": {},
     "output_type": "execute_result"
    }
   ],
   "source": [
    "unit = int(input('Enter a used Electricity in Unit:'))\n",
    "bill = 0\n",
    "for i in range(1,unit+1):\n",
    "    if i <= 100:\n",
    "        bill = bill + 4.5\n",
    "    elif i <= 200:\n",
    "        bill = bill + 6\n",
    "    elif i <= 300:\n",
    "        bill = bill + 10\n",
    "    else:\n",
    "        bill = bill + 20\n",
    "            \n",
    "bill"
   ]
  },
  {
   "cell_type": "markdown",
   "id": "e7d7e919-1935-4b6e-9894-8ac9e324fad2",
   "metadata": {},
   "source": [
    "## Q4. Create a list of numbers from 1 to 100. Use for loop and while loop to calculate the cube of each number and if the cube of that number is divisible by 4 or 5 then append that number in a list and print that list"
   ]
  },
  {
   "cell_type": "markdown",
   "id": "3629d1d2-4dc4-4947-9cf3-221abc940bc3",
   "metadata": {},
   "source": [
    "### For Loop"
   ]
  },
  {
   "cell_type": "code",
   "execution_count": 22,
   "id": "a99b0d67-adc4-496a-9991-4a62ceb738b9",
   "metadata": {},
   "outputs": [],
   "source": [
    "l = []\n",
    "for i in range(1,101):\n",
    "    l.append(i)"
   ]
  },
  {
   "cell_type": "code",
   "execution_count": 23,
   "id": "f6be5231-0563-4731-830b-297f7195e33a",
   "metadata": {},
   "outputs": [],
   "source": [
    "l2 = []\n",
    "for i in l:\n",
    "    l2.append(i**3)"
   ]
  },
  {
   "cell_type": "code",
   "execution_count": 9,
   "id": "314ac06b-b41e-4a87-8b61-45b7e38ea729",
   "metadata": {},
   "outputs": [
    {
     "data": {
      "text/plain": [
       "[8,\n",
       " 64,\n",
       " 125,\n",
       " 216,\n",
       " 512,\n",
       " 1000,\n",
       " 1728,\n",
       " 2744,\n",
       " 3375,\n",
       " 4096,\n",
       " 5832,\n",
       " 8000,\n",
       " 10648,\n",
       " 13824,\n",
       " 15625,\n",
       " 17576,\n",
       " 21952,\n",
       " 27000,\n",
       " 32768,\n",
       " 39304,\n",
       " 42875,\n",
       " 46656,\n",
       " 54872,\n",
       " 64000,\n",
       " 74088,\n",
       " 85184,\n",
       " 91125,\n",
       " 97336,\n",
       " 110592,\n",
       " 125000,\n",
       " 140608,\n",
       " 157464,\n",
       " 166375,\n",
       " 175616,\n",
       " 195112,\n",
       " 216000,\n",
       " 238328,\n",
       " 262144,\n",
       " 274625,\n",
       " 287496,\n",
       " 314432,\n",
       " 343000,\n",
       " 373248,\n",
       " 405224,\n",
       " 421875,\n",
       " 438976,\n",
       " 474552,\n",
       " 512000,\n",
       " 551368,\n",
       " 592704,\n",
       " 614125,\n",
       " 636056,\n",
       " 681472,\n",
       " 729000,\n",
       " 778688,\n",
       " 830584,\n",
       " 857375,\n",
       " 884736,\n",
       " 941192,\n",
       " 1000000]"
      ]
     },
     "execution_count": 9,
     "metadata": {},
     "output_type": "execute_result"
    }
   ],
   "source": [
    "l3 = []\n",
    "for i in l2:\n",
    "    if i%4 == 0 or i%5 == 0:\n",
    "        l3.append(i)\n",
    "l3"
   ]
  },
  {
   "cell_type": "markdown",
   "id": "9227ef94-92b9-4303-8b09-a0871f12a136",
   "metadata": {},
   "source": [
    "## While Loop"
   ]
  },
  {
   "cell_type": "code",
   "execution_count": 10,
   "id": "d3e7166f-a49c-49d8-b5f0-68e52eeb2a2f",
   "metadata": {},
   "outputs": [],
   "source": [
    "l = []\n",
    "l1 = []\n",
    "i = 0\n",
    "n = 0\n",
    "l2 = []\n",
    "while n <= 100:\n",
    "    l.append(n)\n",
    "    n = n+1"
   ]
  },
  {
   "cell_type": "code",
   "execution_count": 11,
   "id": "915b2a08-b62c-463c-b569-f249a8c9586a",
   "metadata": {},
   "outputs": [],
   "source": [
    "while i < len(l):\n",
    "    l1.append(i**3)\n",
    "    i = i+1"
   ]
  },
  {
   "cell_type": "code",
   "execution_count": 12,
   "id": "b68f533d-0205-419c-8089-074b8c4047ee",
   "metadata": {},
   "outputs": [
    {
     "data": {
      "text/plain": [
       "[0,\n",
       " 8,\n",
       " 64,\n",
       " 125,\n",
       " 216,\n",
       " 512,\n",
       " 1000,\n",
       " 1728,\n",
       " 2744,\n",
       " 3375,\n",
       " 4096,\n",
       " 5832,\n",
       " 8000,\n",
       " 10648,\n",
       " 13824,\n",
       " 15625,\n",
       " 17576,\n",
       " 21952,\n",
       " 27000,\n",
       " 32768,\n",
       " 39304,\n",
       " 42875,\n",
       " 46656,\n",
       " 54872,\n",
       " 64000,\n",
       " 74088,\n",
       " 85184,\n",
       " 91125,\n",
       " 97336,\n",
       " 110592,\n",
       " 125000,\n",
       " 140608,\n",
       " 157464,\n",
       " 166375,\n",
       " 175616,\n",
       " 195112,\n",
       " 216000,\n",
       " 238328,\n",
       " 262144,\n",
       " 274625,\n",
       " 287496,\n",
       " 314432,\n",
       " 343000,\n",
       " 373248,\n",
       " 405224,\n",
       " 421875,\n",
       " 438976,\n",
       " 474552,\n",
       " 512000,\n",
       " 551368,\n",
       " 592704,\n",
       " 614125,\n",
       " 636056,\n",
       " 681472,\n",
       " 729000,\n",
       " 778688,\n",
       " 830584,\n",
       " 857375,\n",
       " 884736,\n",
       " 941192,\n",
       " 1000000]"
      ]
     },
     "execution_count": 12,
     "metadata": {},
     "output_type": "execute_result"
    }
   ],
   "source": [
    "j = 0\n",
    "while j < len(l1):\n",
    "    if l1[j]%4 == 0 or l1[j]%5 == 0:\n",
    "        l2.append(l1[j])\n",
    "    j = j + 1\n",
    "l2"
   ]
  },
  {
   "cell_type": "markdown",
   "id": "8b8740f8-39fa-4db9-9af8-67906a95fca9",
   "metadata": {},
   "source": [
    "## Q5.  Write a program to filter count vowels in the below-given string.   string = \"I want to become a data scientist\""
   ]
  },
  {
   "cell_type": "code",
   "execution_count": 1,
   "id": "a472296e-2bbe-48f9-bd17-afb5ba71d9d7",
   "metadata": {},
   "outputs": [
    {
     "data": {
      "text/plain": [
       "12"
      ]
     },
     "execution_count": 1,
     "metadata": {},
     "output_type": "execute_result"
    }
   ],
   "source": [
    "l = ['a', 'e', 'i', 'o' , 'u', 'A', 'E', 'I', 'O', 'U']\n",
    "string = \"I want to become a data scientist\"\n",
    "count = 0\n",
    "for i in string:\n",
    "    if i in l:\n",
    "        count = count + 1\n",
    "count"
   ]
  },
  {
   "cell_type": "code",
   "execution_count": null,
   "id": "54ca211d-f4b9-41bd-9e31-ccea8d4086c7",
   "metadata": {},
   "outputs": [],
   "source": []
  }
 ],
 "metadata": {
  "kernelspec": {
   "display_name": "Python 3 (ipykernel)",
   "language": "python",
   "name": "python3"
  },
  "language_info": {
   "codemirror_mode": {
    "name": "ipython",
    "version": 3
   },
   "file_extension": ".py",
   "mimetype": "text/x-python",
   "name": "python",
   "nbconvert_exporter": "python",
   "pygments_lexer": "ipython3",
   "version": "3.10.8"
  }
 },
 "nbformat": 4,
 "nbformat_minor": 5
}
