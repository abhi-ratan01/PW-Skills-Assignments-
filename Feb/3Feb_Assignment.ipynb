{
 "cells": [
  {
   "cell_type": "markdown",
   "id": "19a82d5a-62f9-40cb-8636-f2a33a1f0643",
   "metadata": {},
   "source": [
    "# Assignment"
   ]
  },
  {
   "cell_type": "markdown",
   "id": "376d67e3-e6b8-4508-936e-4ab50f9638fa",
   "metadata": {},
   "source": [
    "## Q.1 Which keyword is used to create a function? Create a function to return a list to odd numbers in the range of 1 to 25."
   ]
  },
  {
   "cell_type": "markdown",
   "id": "aa1669cc-1510-43ad-a0cd-d8f46ed8adea",
   "metadata": {},
   "source": [
    "def"
   ]
  },
  {
   "cell_type": "code",
   "execution_count": 52,
   "id": "d875c0dc-d3be-4467-9012-c732d55bdbbf",
   "metadata": {},
   "outputs": [],
   "source": [
    "l = []\n",
    "def odd_numbers(n):\n",
    "    if n%2!=0:\n",
    "         return l.append(n)"
   ]
  },
  {
   "cell_type": "code",
   "execution_count": 53,
   "id": "cc5ce7ee-3b66-4a05-9be3-fcc01ac9d725",
   "metadata": {},
   "outputs": [],
   "source": [
    "for i in range(1,25):\n",
    "    odd_numbers(i)\n",
    "    "
   ]
  },
  {
   "cell_type": "code",
   "execution_count": 54,
   "id": "26b36e74-84f6-41d4-9d92-6b1e84bd756b",
   "metadata": {},
   "outputs": [
    {
     "data": {
      "text/plain": [
       "[1, 3, 5, 7, 9, 11, 13, 15, 17, 19, 21, 23]"
      ]
     },
     "execution_count": 54,
     "metadata": {},
     "output_type": "execute_result"
    }
   ],
   "source": [
    "l"
   ]
  },
  {
   "cell_type": "markdown",
   "id": "7abd8bd0-c89a-42ff-b98e-ed1d7893e107",
   "metadata": {},
   "source": [
    "## Q2. Why *args and **kwargs is used in some functions? Create a function each for *args and **kwargs to demonstrate their use."
   ]
  },
  {
   "cell_type": "markdown",
   "id": "c2c3a3a0-4350-4b6c-b768-68d46c6c722b",
   "metadata": {},
   "source": [
    "### *args and **kwargs is used is some function because in dictionary type of object in key value pair and *args are not allow a key value pair of arguments and other type of object allow then we have a use to dictionay type in **kwargs "
   ]
  },
  {
   "cell_type": "code",
   "execution_count": 55,
   "id": "eb10cbe0-e769-4d10-9921-8a9dec2d4692",
   "metadata": {},
   "outputs": [],
   "source": [
    "def test1(*args):\n",
    "    return args"
   ]
  },
  {
   "cell_type": "code",
   "execution_count": 56,
   "id": "74ffa2cc-af22-4a5b-8156-c72873b8ee49",
   "metadata": {},
   "outputs": [
    {
     "data": {
      "text/plain": [
       "(23, 34, 2356.34, 5, 34, 65, 34, 34)"
      ]
     },
     "execution_count": 56,
     "metadata": {},
     "output_type": "execute_result"
    }
   ],
   "source": [
    "test1(23,34,2356.34,5,34,65,34,34)"
   ]
  },
  {
   "cell_type": "markdown",
   "id": "8e7e2589-711e-471f-8d78-b44b36914c7e",
   "metadata": {},
   "source": [
    "we can't use a *args argument in diction object"
   ]
  },
  {
   "cell_type": "code",
   "execution_count": 57,
   "id": "901dc1ea-4890-4322-b9f8-a21e6b5ed751",
   "metadata": {},
   "outputs": [
    {
     "ename": "TypeError",
     "evalue": "test1() got an unexpected keyword argument 'key1'",
     "output_type": "error",
     "traceback": [
      "\u001b[0;31m---------------------------------------------------------------------------\u001b[0m",
      "\u001b[0;31mTypeError\u001b[0m                                 Traceback (most recent call last)",
      "Cell \u001b[0;32mIn[57], line 1\u001b[0m\n\u001b[0;32m----> 1\u001b[0m \u001b[43mtest1\u001b[49m\u001b[43m(\u001b[49m\u001b[43mkey1\u001b[49m\u001b[38;5;241;43m=\u001b[39;49m\u001b[38;5;124;43m\"\u001b[39;49m\u001b[38;5;124;43mAbhi\u001b[39;49m\u001b[38;5;124;43m\"\u001b[39;49m\u001b[43m,\u001b[49m\u001b[43m \u001b[49m\u001b[43mkey2\u001b[49m\u001b[38;5;241;43m=\u001b[39;49m\u001b[38;5;124;43m\"\u001b[39;49m\u001b[38;5;124;43mKumar\u001b[39;49m\u001b[38;5;124;43m\"\u001b[39;49m\u001b[43m)\u001b[49m\n",
      "\u001b[0;31mTypeError\u001b[0m: test1() got an unexpected keyword argument 'key1'"
     ]
    }
   ],
   "source": [
    "test1(key1=\"Abhi\", key2=\"Kumar\")"
   ]
  },
  {
   "cell_type": "code",
   "execution_count": 58,
   "id": "9f2108de-89df-44e5-a223-f56891fd0959",
   "metadata": {},
   "outputs": [],
   "source": [
    "def test2(**kwargs):\n",
    "    return kwargs.values()"
   ]
  },
  {
   "cell_type": "code",
   "execution_count": 65,
   "id": "088b2bd2-933c-4621-9282-11e854f5590c",
   "metadata": {},
   "outputs": [
    {
     "data": {
      "text/plain": [
       "dict_values(['Abhi', 'Kumar', 'Ratan', 'Prajapati'])"
      ]
     },
     "execution_count": 65,
     "metadata": {},
     "output_type": "execute_result"
    }
   ],
   "source": [
    "test2(key1=\"Abhi\", key2=\"Kumar\", key3=\"Ratan\",key4=\"Prajapati\")"
   ]
  },
  {
   "cell_type": "markdown",
   "id": "4cf548a5-181d-4aab-b2e8-44aadbf5ca81",
   "metadata": {},
   "source": [
    "Same as we can't apply a **kwargs in not dictionary object "
   ]
  },
  {
   "cell_type": "code",
   "execution_count": 66,
   "id": "04b09cf0-27b5-462c-8921-e5067116eafa",
   "metadata": {},
   "outputs": [
    {
     "ename": "TypeError",
     "evalue": "test2() takes 0 positional arguments but 6 were given",
     "output_type": "error",
     "traceback": [
      "\u001b[0;31m---------------------------------------------------------------------------\u001b[0m",
      "\u001b[0;31mTypeError\u001b[0m                                 Traceback (most recent call last)",
      "Cell \u001b[0;32mIn[66], line 1\u001b[0m\n\u001b[0;32m----> 1\u001b[0m \u001b[43mtest2\u001b[49m\u001b[43m(\u001b[49m\u001b[38;5;241;43m34\u001b[39;49m\u001b[43m,\u001b[49m\u001b[38;5;241;43m45\u001b[39;49m\u001b[43m,\u001b[49m\u001b[38;5;241;43m23\u001b[39;49m\u001b[43m,\u001b[49m\u001b[38;5;241;43m45\u001b[39;49m\u001b[43m,\u001b[49m\u001b[38;5;241;43m23\u001b[39;49m\u001b[43m,\u001b[49m\u001b[38;5;241;43m45\u001b[39;49m\u001b[43m)\u001b[49m\n",
      "\u001b[0;31mTypeError\u001b[0m: test2() takes 0 positional arguments but 6 were given"
     ]
    }
   ],
   "source": [
    "test2(34,45,23,45,23,45)"
   ]
  },
  {
   "cell_type": "markdown",
   "id": "0303cd36-a4a2-4622-a5d5-eba4ce7d258d",
   "metadata": {},
   "source": [
    "## Q.3 What is an iterator in python? Name the method used to initialise the iterator object and the method used for iteration. Use these methods to print the first five elements of the given list [2,4,6,8,10,12,14,16,18,20]."
   ]
  },
  {
   "cell_type": "markdown",
   "id": "ff27c8ec-96d3-4d98-b212-aa51e538915c",
   "metadata": {},
   "source": [
    "Iteration means to access each item of something one after another generally using a loop"
   ]
  },
  {
   "cell_type": "markdown",
   "id": "7877d962-570d-4cef-b7db-fd08e74b4986",
   "metadata": {},
   "source": [
    "list, tuples, dictionaries, etc. --> all are iterables"
   ]
  },
  {
   "cell_type": "markdown",
   "id": "8a240fca-cd83-4a2f-89a3-c135a7fa8f7f",
   "metadata": {},
   "source": [
    "iter() -- initialise the iterator object"
   ]
  },
  {
   "cell_type": "markdown",
   "id": "7ad08aff-f79d-4e5d-a86d-1f9bbce4c2a2",
   "metadata": {},
   "source": [
    "next() -- used for iteration"
   ]
  },
  {
   "cell_type": "code",
   "execution_count": 90,
   "id": "f75fcec3-2fcd-4b1b-ae8f-c4af4b482c36",
   "metadata": {},
   "outputs": [],
   "source": [
    "l = [2,4,6,8,10,12,14,16,18,20]"
   ]
  },
  {
   "cell_type": "code",
   "execution_count": 91,
   "id": "60843416-0661-4d12-a997-95762b8b376f",
   "metadata": {},
   "outputs": [],
   "source": [
    "l1 = iter(l)"
   ]
  },
  {
   "cell_type": "code",
   "execution_count": 92,
   "id": "f6a505dd-71fe-4b1e-94e4-a48b9a26a8aa",
   "metadata": {},
   "outputs": [
    {
     "data": {
      "text/plain": [
       "2"
      ]
     },
     "execution_count": 92,
     "metadata": {},
     "output_type": "execute_result"
    }
   ],
   "source": [
    "next(l1)"
   ]
  },
  {
   "cell_type": "code",
   "execution_count": 93,
   "id": "b15e21f3-55f8-40da-a229-e391c0f855f9",
   "metadata": {},
   "outputs": [
    {
     "data": {
      "text/plain": [
       "4"
      ]
     },
     "execution_count": 93,
     "metadata": {},
     "output_type": "execute_result"
    }
   ],
   "source": [
    "next(l1)"
   ]
  },
  {
   "cell_type": "code",
   "execution_count": 94,
   "id": "15d737b5-3427-4c69-9b73-84b34b7b971a",
   "metadata": {},
   "outputs": [
    {
     "data": {
      "text/plain": [
       "6"
      ]
     },
     "execution_count": 94,
     "metadata": {},
     "output_type": "execute_result"
    }
   ],
   "source": [
    "next(l1)"
   ]
  },
  {
   "cell_type": "code",
   "execution_count": 95,
   "id": "ca3fb608-5b83-43ed-9851-6bf31386d524",
   "metadata": {},
   "outputs": [
    {
     "data": {
      "text/plain": [
       "8"
      ]
     },
     "execution_count": 95,
     "metadata": {},
     "output_type": "execute_result"
    }
   ],
   "source": [
    "next(l1)"
   ]
  },
  {
   "cell_type": "code",
   "execution_count": 96,
   "id": "a6573629-5cc1-4710-815f-2fdb2cc422cf",
   "metadata": {},
   "outputs": [
    {
     "data": {
      "text/plain": [
       "10"
      ]
     },
     "execution_count": 96,
     "metadata": {},
     "output_type": "execute_result"
    }
   ],
   "source": [
    "next(l1)"
   ]
  },
  {
   "cell_type": "markdown",
   "id": "6f577c43-da93-48bf-ad7d-339242fb75af",
   "metadata": {},
   "source": [
    "## Q.4 What is a generator function in python? Why yield keyword is used? Give an example of a generator function."
   ]
  },
  {
   "cell_type": "markdown",
   "id": "9f4fe32e-b42f-4c43-a3ae-ad707f7b7972",
   "metadata": {},
   "source": [
    "### Generator Function\n",
    "Python Generator functions allow you to declare a function that behaves likes an iterator, allowing programmers to make an iterator in a fast, easy, and clean way. An iterator is an object that can be iterated or looped upon. It is used to abstract a container of data to make it behave like an iterable object."
   ]
  },
  {
   "cell_type": "markdown",
   "id": "eaa04915-8972-4670-9628-04cb0e0807ea",
   "metadata": {},
   "source": [
    "The yield keyword will convert an expression that is specified along with it to a generator object and return it to the caller."
   ]
  },
  {
   "cell_type": "code",
   "execution_count": 109,
   "id": "c81c852e-769f-4f18-94f4-dffc90bac7ee",
   "metadata": {},
   "outputs": [],
   "source": [
    "def test_feb1():\n",
    "    a,b = 0, 1\n",
    "    while True:\n",
    "        yield a\n",
    "        a,b = b,a+b"
   ]
  },
  {
   "cell_type": "code",
   "execution_count": 110,
   "id": "adb9a709-e2af-478e-8715-ebbe0ebd0f55",
   "metadata": {},
   "outputs": [],
   "source": [
    "fib = test_feb1()"
   ]
  },
  {
   "cell_type": "code",
   "execution_count": 111,
   "id": "993e7b98-64a1-41e7-8adb-29dd17d42ec5",
   "metadata": {},
   "outputs": [
    {
     "name": "stdout",
     "output_type": "stream",
     "text": [
      "0\n",
      "1\n",
      "1\n",
      "2\n",
      "3\n",
      "5\n",
      "8\n",
      "13\n",
      "21\n",
      "34\n"
     ]
    }
   ],
   "source": [
    "for i in range(10):\n",
    "    print(next(fib))"
   ]
  },
  {
   "cell_type": "markdown",
   "id": "046f76b4-68c9-4ffa-b06d-24a49b8b244e",
   "metadata": {},
   "source": [
    "## Q.5 Create a generator function for prime numbers less than 1000. Use the next() method to print the first 20 prime numbers."
   ]
  },
  {
   "cell_type": "code",
   "execution_count": 1,
   "id": "22579d6f-d1a8-4074-971a-6649de9e129b",
   "metadata": {},
   "outputs": [
    {
     "name": "stdout",
     "output_type": "stream",
     "text": [
      "2\n",
      "3\n",
      "5\n",
      "7\n",
      "11\n",
      "13\n",
      "17\n",
      "19\n",
      "23\n",
      "29\n",
      "31\n",
      "37\n",
      "41\n",
      "43\n",
      "47\n",
      "53\n",
      "59\n",
      "61\n",
      "67\n",
      "71\n"
     ]
    }
   ],
   "source": [
    "def prime_numbers():\n",
    "    yield 2\n",
    "\n",
    "    for num in range(3, 1000, 2):\n",
    "        for i in range(3, num, 2):\n",
    "            if num % i == 0:\n",
    "                break\n",
    "        else:\n",
    "            yield num\n",
    "\n",
    "prime_gen = prime_numbers()\n",
    "for _ in range(20):\n",
    "    print(next(prime_gen))"
   ]
  },
  {
   "cell_type": "markdown",
   "id": "a3fe4bee-47e2-4397-b7ab-d570f8e1ffa4",
   "metadata": {},
   "source": [
    "## Q.6 Write a python program to print the first 10 Fibonacci numbers using a while loop."
   ]
  },
  {
   "cell_type": "code",
   "execution_count": 84,
   "id": "76643ede-6067-4abd-b766-9080b4dd3ef1",
   "metadata": {},
   "outputs": [
    {
     "name": "stdout",
     "output_type": "stream",
     "text": [
      "0\n",
      "1\n",
      "1\n",
      "2\n",
      "3\n",
      "5\n",
      "8\n",
      "13\n",
      "21\n",
      "34\n"
     ]
    }
   ],
   "source": [
    "a = 0\n",
    "b = 1\n",
    "n = 10\n",
    "i = 0\n",
    "while i < n:\n",
    "    print(a)\n",
    "    c = a + b\n",
    "    a = b\n",
    "    b = c \n",
    "    i = i + 1"
   ]
  },
  {
   "cell_type": "markdown",
   "id": "1fde3286-0b3b-46b8-9b8b-d474ee3a8187",
   "metadata": {},
   "source": [
    "## Q7. Write a List Comprehension to iterate through the given string: ‘pwskills’.Expected output: ['p', 'w', 's', 'k', 'i', 'l', 'l', 's']"
   ]
  },
  {
   "cell_type": "code",
   "execution_count": 85,
   "id": "aabacbfa-713d-442f-8575-04103f6b9a62",
   "metadata": {},
   "outputs": [],
   "source": [
    "s = \"pwskills\""
   ]
  },
  {
   "cell_type": "code",
   "execution_count": 86,
   "id": "0a4c89dd-d687-49ff-a599-0a3255a758f5",
   "metadata": {},
   "outputs": [
    {
     "data": {
      "text/plain": [
       "['p', 'w', 's', 'k', 'i', 'l', 'l', 's']"
      ]
     },
     "execution_count": 86,
     "metadata": {},
     "output_type": "execute_result"
    }
   ],
   "source": [
    "[i for i in s]"
   ]
  },
  {
   "cell_type": "markdown",
   "id": "aebf103f-b180-4b3b-8132-6ce280343fee",
   "metadata": {},
   "source": [
    "## Q8. Write a python program to check whether a given number is Palindrome or not using a while loop."
   ]
  },
  {
   "cell_type": "code",
   "execution_count": 1,
   "id": "d8011052-a27b-4f80-8a95-0afa2ca037d3",
   "metadata": {},
   "outputs": [],
   "source": [
    "def palindrom(num):\n",
    "    reverse = 0\n",
    "    original = num\n",
    "    while num > 0:\n",
    "        last_digit = num % 10\n",
    "        reverse = (reverse * 10) + last_digit\n",
    "        num = num // 10\n",
    "    if reverse == original:\n",
    "        return True\n",
    "    else:\n",
    "        return False"
   ]
  },
  {
   "cell_type": "markdown",
   "id": "189b6f9f-8114-490a-95df-219edf896da8",
   "metadata": {},
   "source": [
    "## Q.9 Write a code to print odd numbers from 1 to 100 using list comprehension."
   ]
  },
  {
   "cell_type": "code",
   "execution_count": 115,
   "id": "430d396c-85eb-43e5-afa7-09930762d0e6",
   "metadata": {},
   "outputs": [
    {
     "data": {
      "text/plain": [
       "[1,\n",
       " 3,\n",
       " 5,\n",
       " 7,\n",
       " 9,\n",
       " 11,\n",
       " 13,\n",
       " 15,\n",
       " 17,\n",
       " 19,\n",
       " 21,\n",
       " 23,\n",
       " 25,\n",
       " 27,\n",
       " 29,\n",
       " 31,\n",
       " 33,\n",
       " 35,\n",
       " 37,\n",
       " 39,\n",
       " 41,\n",
       " 43,\n",
       " 45,\n",
       " 47,\n",
       " 49,\n",
       " 51,\n",
       " 53,\n",
       " 55,\n",
       " 57,\n",
       " 59,\n",
       " 61,\n",
       " 63,\n",
       " 65,\n",
       " 67,\n",
       " 69,\n",
       " 71,\n",
       " 73,\n",
       " 75,\n",
       " 77,\n",
       " 79,\n",
       " 81,\n",
       " 83,\n",
       " 85,\n",
       " 87,\n",
       " 89,\n",
       " 91,\n",
       " 93,\n",
       " 95,\n",
       " 97,\n",
       " 99]"
      ]
     },
     "execution_count": 115,
     "metadata": {},
     "output_type": "execute_result"
    }
   ],
   "source": [
    "[i for i in range(1,100) if i%2!=0]"
   ]
  },
  {
   "cell_type": "code",
   "execution_count": null,
   "id": "55f62d0b-54eb-4669-b4f9-ba8d3f432e5e",
   "metadata": {},
   "outputs": [],
   "source": []
  }
 ],
 "metadata": {
  "kernelspec": {
   "display_name": "Python 3 (ipykernel)",
   "language": "python",
   "name": "python3"
  },
  "language_info": {
   "codemirror_mode": {
    "name": "ipython",
    "version": 3
   },
   "file_extension": ".py",
   "mimetype": "text/x-python",
   "name": "python",
   "nbconvert_exporter": "python",
   "pygments_lexer": "ipython3",
   "version": "3.10.8"
  }
 },
 "nbformat": 4,
 "nbformat_minor": 5
}
