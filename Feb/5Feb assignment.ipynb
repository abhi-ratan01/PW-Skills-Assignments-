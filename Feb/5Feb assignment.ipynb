{
 "cells": [
  {
   "cell_type": "markdown",
   "id": "93d47860-547f-4f3e-acc5-b53883af3fd4",
   "metadata": {},
   "source": [
    "# Assignment"
   ]
  },
  {
   "cell_type": "markdown",
   "id": "393d8267-1dd4-4076-9f2c-62c4bccbaeed",
   "metadata": {},
   "source": [
    "## Q1. Explain Class and Object with respect to Object-Oriented Programming. Give a suitable example."
   ]
  },
  {
   "cell_type": "markdown",
   "id": "78418742-e5b6-48ec-9ef1-ce669158fcce",
   "metadata": {
    "tags": []
   },
   "source": [
    "## Class"
   ]
  },
  {
   "cell_type": "markdown",
   "id": "2bb9d6c7-d2a6-4c95-b52f-fdb3547dda03",
   "metadata": {},
   "source": [
    "#### A class describes the contents of the objects that belong to it: it describes an aggregate of data fields (called instance variables), and defines the operations (called methods)."
   ]
  },
  {
   "cell_type": "code",
   "execution_count": 4,
   "id": "9261e369-e585-4196-a17d-4f1e5fc36707",
   "metadata": {},
   "outputs": [],
   "source": [
    "class classname:\n",
    "    \n",
    "    def hello(self):\n",
    "        print('this function is in side in classname class')"
   ]
  },
  {
   "cell_type": "markdown",
   "id": "4f6b60c2-37a8-4b93-beb0-178bfbcf14a7",
   "metadata": {},
   "source": [
    "## Object"
   ]
  },
  {
   "cell_type": "markdown",
   "id": "6b6c6db6-1fb9-4c17-8091-1aea702b140e",
   "metadata": {},
   "source": [
    "#### An object is an element (or instance) of a class; objects have the behaviors of their class. The object is the actual component of programs, while the class specifies how instances are created and how they behave."
   ]
  },
  {
   "cell_type": "code",
   "execution_count": 5,
   "id": "2af39256-89ed-433a-9e46-3e60b9b8397a",
   "metadata": {},
   "outputs": [],
   "source": [
    "obj = classname()"
   ]
  },
  {
   "cell_type": "code",
   "execution_count": 6,
   "id": "a1cd6e14-9351-4068-b7c2-3f24fb24a1b4",
   "metadata": {},
   "outputs": [
    {
     "name": "stdout",
     "output_type": "stream",
     "text": [
      "this function is in side in classname class\n"
     ]
    }
   ],
   "source": [
    "obj.hello()"
   ]
  },
  {
   "cell_type": "markdown",
   "id": "0a7d6ffa-d814-4adb-a6b4-2d793e329982",
   "metadata": {},
   "source": [
    "## Q2. Name the four pillars of OOPs."
   ]
  },
  {
   "cell_type": "markdown",
   "id": "e48101b4-0dff-4573-a797-8cd6b012096b",
   "metadata": {},
   "source": [
    "### In OOPs programing language four pillars are Inheritance, Polymorphism, Encapsulation and Abstraction."
   ]
  },
  {
   "cell_type": "markdown",
   "id": "13a40aec-c0de-4c58-9d1a-b7a3d0dcae33",
   "metadata": {},
   "source": [
    "## Q3. Explain why the __init__() function is used. Give a suitable example."
   ]
  },
  {
   "cell_type": "markdown",
   "id": "50d070a6-1806-42fa-817d-b1561657d602",
   "metadata": {},
   "source": [
    "#### The __init__() function is called every time an object is created from a class. The __init__ method lets the class initialize the object's attributes and serves no other purpose. It is only used within classes."
   ]
  },
  {
   "cell_type": "code",
   "execution_count": 1,
   "id": "962dc55c-93fb-4731-a91a-83aa9fd0ab6f",
   "metadata": {},
   "outputs": [],
   "source": [
    "class data:\n",
    "    \n",
    "    def __init__(self, name,gmail):\n",
    "        self.name = name\n",
    "        self.gmail = gmail"
   ]
  },
  {
   "cell_type": "code",
   "execution_count": 3,
   "id": "098d3bc9-a83c-4d04-8360-0b4551444372",
   "metadata": {},
   "outputs": [],
   "source": [
    "obj1 = data(\"Abhi\", \"abhi@gmail.com\")"
   ]
  },
  {
   "cell_type": "code",
   "execution_count": 4,
   "id": "09b5b94f-b354-4dfb-bbeb-6c73413df0af",
   "metadata": {},
   "outputs": [
    {
     "data": {
      "text/plain": [
       "'Abhi'"
      ]
     },
     "execution_count": 4,
     "metadata": {},
     "output_type": "execute_result"
    }
   ],
   "source": [
    "obj1.name"
   ]
  },
  {
   "cell_type": "code",
   "execution_count": 5,
   "id": "d04b532a-a916-442c-9ca4-49a7b618d118",
   "metadata": {},
   "outputs": [
    {
     "data": {
      "text/plain": [
       "'abhi@gmail.com'"
      ]
     },
     "execution_count": 5,
     "metadata": {},
     "output_type": "execute_result"
    }
   ],
   "source": [
    "obj1.gmail"
   ]
  },
  {
   "cell_type": "markdown",
   "id": "f257d77c-b9d4-46d8-996a-246cc707d2c2",
   "metadata": {
    "tags": []
   },
   "source": [
    "## Q4. Why self is used in OOPs?"
   ]
  },
  {
   "cell_type": "markdown",
   "id": "25350f7e-2139-4fc0-9bb3-809ea084f4fa",
   "metadata": {
    "tags": []
   },
   "source": [
    "#### The self variable is used to represent the instance of the class which is often used in object-oriented programming. It works as a reference to the object. Python uses the self parameter to refer to instance attributes and methods of the class."
   ]
  },
  {
   "cell_type": "markdown",
   "id": "30099703-0879-478a-91ad-473865d9dc39",
   "metadata": {
    "tags": []
   },
   "source": [
    "## Q5. What is inheritance? Give an example for each type of inheritance."
   ]
  },
  {
   "cell_type": "markdown",
   "id": "84056c8a-0a8e-46c8-bf07-cbf11a6d2213",
   "metadata": {
    "tags": []
   },
   "source": [
    "#### Inheritance allows us to define a class that inherits all the methods and properties from another class. Parent class is the class being inherited from, also called base class. Child class is the class that inherits from another class, also called derived class."
   ]
  },
  {
   "cell_type": "markdown",
   "id": "22921819-ecf8-4656-94a1-6790c1b9d455",
   "metadata": {},
   "source": [
    "## Single Inheritance"
   ]
  },
  {
   "cell_type": "code",
   "execution_count": 6,
   "id": "ad0abdaf-c698-424e-b237-6229b85770f3",
   "metadata": {},
   "outputs": [],
   "source": [
    "class parent:\n",
    "    \n",
    "    \n",
    "    def parent_(self):\n",
    "        print(\"This is a parent class\")"
   ]
  },
  {
   "cell_type": "code",
   "execution_count": 9,
   "id": "1d58a829-4014-4fef-9ebe-b5107cb92821",
   "metadata": {},
   "outputs": [],
   "source": [
    "class child(parent):\n",
    "    \n",
    "    def child_(self):\n",
    "        pass"
   ]
  },
  {
   "cell_type": "code",
   "execution_count": 10,
   "id": "b0644001-ddf0-4856-996a-33cefcfe462a",
   "metadata": {},
   "outputs": [],
   "source": [
    "obj_child = child()"
   ]
  },
  {
   "cell_type": "code",
   "execution_count": 11,
   "id": "fba0588e-fa3d-4ddb-b783-7c723ee98818",
   "metadata": {},
   "outputs": [
    {
     "name": "stdout",
     "output_type": "stream",
     "text": [
      "This is a parent class\n"
     ]
    }
   ],
   "source": [
    "obj_child.parent_()"
   ]
  },
  {
   "cell_type": "markdown",
   "id": "15cbe2ce-2cc7-4eda-9c8f-eddd40fb66cf",
   "metadata": {},
   "source": [
    "## Multi Level Inheritance"
   ]
  },
  {
   "cell_type": "code",
   "execution_count": 13,
   "id": "1e5443b3-4c0f-494e-834b-8114d9e8aa35",
   "metadata": {},
   "outputs": [],
   "source": [
    "class parent_of_parent:\n",
    "    \n",
    "    def test_pfp(self):\n",
    "        print(\"This is a parent of parent class\")"
   ]
  },
  {
   "cell_type": "code",
   "execution_count": 14,
   "id": "899b8683-445c-4749-8e6a-9aa282b2dafb",
   "metadata": {},
   "outputs": [],
   "source": [
    "class parent_of_child(parent_of_parent):\n",
    "    \n",
    "    def test_pfc(self):\n",
    "        print(\"This is a parent of child class\")"
   ]
  },
  {
   "cell_type": "code",
   "execution_count": 15,
   "id": "1c210467-5df6-4ed3-8a62-41094752cbca",
   "metadata": {},
   "outputs": [],
   "source": [
    "class child_of_parent(parent_of_child):\n",
    "    pass"
   ]
  },
  {
   "cell_type": "code",
   "execution_count": 16,
   "id": "bc7bca1c-b036-48ca-b206-a3cba63b4c4e",
   "metadata": {},
   "outputs": [],
   "source": [
    "multi_level_inh = child_of_parent()"
   ]
  },
  {
   "cell_type": "code",
   "execution_count": 17,
   "id": "756a303f-c84d-4b15-9eee-9aa34a6aba2e",
   "metadata": {},
   "outputs": [
    {
     "name": "stdout",
     "output_type": "stream",
     "text": [
      "This is a parent of parent class\n"
     ]
    }
   ],
   "source": [
    "multi_level_inh.test_pfp()"
   ]
  },
  {
   "cell_type": "code",
   "execution_count": 18,
   "id": "56cbbeca-0992-40a6-a248-43f11cd5cb66",
   "metadata": {},
   "outputs": [
    {
     "name": "stdout",
     "output_type": "stream",
     "text": [
      "This is a parent of child class\n"
     ]
    }
   ],
   "source": [
    "multi_level_inh.test_pfc()"
   ]
  },
  {
   "cell_type": "markdown",
   "id": "4ef1a887-51bf-4d5b-a9d8-f93ba4009180",
   "metadata": {},
   "source": [
    "## Multiple Inheritance"
   ]
  },
  {
   "cell_type": "code",
   "execution_count": 20,
   "id": "d1398cf1-e280-4773-a3eb-114d011ecd01",
   "metadata": {},
   "outputs": [],
   "source": [
    "class parent1:\n",
    "    \n",
    "    def test_parent1(self):\n",
    "        print(\"This is a first parent class\")"
   ]
  },
  {
   "cell_type": "code",
   "execution_count": 21,
   "id": "ab2e06c7-25ef-491c-9465-8725bc755690",
   "metadata": {},
   "outputs": [],
   "source": [
    "class parent2:\n",
    "    def test_parent2(self):\n",
    "        print(\"This is a second parent class\")"
   ]
  },
  {
   "cell_type": "code",
   "execution_count": 22,
   "id": "5ef43e96-419e-4ec1-9e71-ab30c8bb0b93",
   "metadata": {},
   "outputs": [],
   "source": [
    "class child_of_two_parent(parent1,parent2):\n",
    "    pass"
   ]
  },
  {
   "cell_type": "code",
   "execution_count": 23,
   "id": "424e2dca-f67c-42fc-8926-81a625f6dff0",
   "metadata": {},
   "outputs": [],
   "source": [
    "multiple_inh = child_of_two_parent()"
   ]
  },
  {
   "cell_type": "code",
   "execution_count": 25,
   "id": "a9fe7df5-f748-496e-9329-df9daca3102a",
   "metadata": {},
   "outputs": [
    {
     "name": "stdout",
     "output_type": "stream",
     "text": [
      "This is a first parent class\n"
     ]
    }
   ],
   "source": [
    "multiple_inh.test_parent1()"
   ]
  },
  {
   "cell_type": "code",
   "execution_count": 26,
   "id": "706521e3-344a-4df6-9d0a-27eb907cdd0a",
   "metadata": {},
   "outputs": [
    {
     "name": "stdout",
     "output_type": "stream",
     "text": [
      "This is a second parent class\n"
     ]
    }
   ],
   "source": [
    "multiple_inh.test_parent2()"
   ]
  },
  {
   "cell_type": "markdown",
   "id": "a9fe38d2-d049-4188-9c63-b1657b2cb98a",
   "metadata": {},
   "source": [
    "## Hierarchical"
   ]
  },
  {
   "cell_type": "code",
   "execution_count": 28,
   "id": "6d79b163-394a-449b-b055-b6c7eee0f235",
   "metadata": {},
   "outputs": [],
   "source": [
    "class parent_of_two_child:\n",
    "    \n",
    "    def ptc(self):\n",
    "        print(\"This is a parent of two childrens\")"
   ]
  },
  {
   "cell_type": "code",
   "execution_count": 29,
   "id": "cbfd4328-232a-4adb-bcee-68e5519c21fb",
   "metadata": {},
   "outputs": [],
   "source": [
    "class child1(parent_of_two_child):\n",
    "    pass"
   ]
  },
  {
   "cell_type": "code",
   "execution_count": 30,
   "id": "a6bf87fd-70b7-4798-82d9-9f2d8d21873f",
   "metadata": {},
   "outputs": [],
   "source": [
    "class child2(parent_of_two_child):\n",
    "    pass"
   ]
  },
  {
   "cell_type": "code",
   "execution_count": 31,
   "id": "f1bd7121-62ed-4616-83c8-fc4e14860905",
   "metadata": {},
   "outputs": [],
   "source": [
    "Hierarchical_inh1 = child1()"
   ]
  },
  {
   "cell_type": "code",
   "execution_count": 32,
   "id": "f8f44878-ba0e-4f6c-8966-7d304e2b46db",
   "metadata": {},
   "outputs": [],
   "source": [
    "Hierarchical_inh2 = child2()"
   ]
  },
  {
   "cell_type": "code",
   "execution_count": 33,
   "id": "73b33958-d5d9-465a-a764-970ba6ffa019",
   "metadata": {},
   "outputs": [
    {
     "name": "stdout",
     "output_type": "stream",
     "text": [
      "This is a parent of two childrens\n"
     ]
    }
   ],
   "source": [
    "Hierarchical_inh1.ptc()"
   ]
  },
  {
   "cell_type": "code",
   "execution_count": 34,
   "id": "aaa2d57a-a1b4-4a9a-a421-4c6fe1eb7db3",
   "metadata": {},
   "outputs": [
    {
     "name": "stdout",
     "output_type": "stream",
     "text": [
      "This is a parent of two childrens\n"
     ]
    }
   ],
   "source": [
    "Hierarchical_inh2.ptc()"
   ]
  },
  {
   "cell_type": "markdown",
   "id": "e7dd7b00-2313-4080-8ce6-5938c60909fa",
   "metadata": {},
   "source": [
    "## Hybrid Inheritance"
   ]
  },
  {
   "cell_type": "code",
   "execution_count": 36,
   "id": "0537fa33-1abd-48dc-9ec0-e68c02ff4b73",
   "metadata": {},
   "outputs": [],
   "source": [
    "class parent:\n",
    "    \n",
    "    def test_parent(self):\n",
    "        print(\"This is a parent class\")"
   ]
  },
  {
   "cell_type": "code",
   "execution_count": 37,
   "id": "ef895dc8-03b0-4952-821e-9bdb3dfc377f",
   "metadata": {},
   "outputs": [],
   "source": [
    "class child1(parent):\n",
    "    \n",
    "    def test_child1(self):\n",
    "        print(\"This is a child1 class \")"
   ]
  },
  {
   "cell_type": "code",
   "execution_count": 38,
   "id": "2d7f787a-2dde-49e4-883d-e1088c423b2d",
   "metadata": {},
   "outputs": [],
   "source": [
    "class child2(parent):\n",
    "    \n",
    "    def test_child2(self):\n",
    "        print(\"This is a child2 class\")"
   ]
  },
  {
   "cell_type": "code",
   "execution_count": 39,
   "id": "d1b595bd-859f-4f03-949b-15a9b9997a31",
   "metadata": {},
   "outputs": [],
   "source": [
    "class child_of_child(child1,child2):\n",
    "    pass"
   ]
  },
  {
   "cell_type": "code",
   "execution_count": 40,
   "id": "5dc54b90-8d47-484f-b83a-8431bfa4083a",
   "metadata": {},
   "outputs": [],
   "source": [
    "hybrid_inh = child_of_child()"
   ]
  },
  {
   "cell_type": "code",
   "execution_count": 41,
   "id": "eae66ecc-b5d1-463e-9a71-34f71baf4888",
   "metadata": {},
   "outputs": [
    {
     "name": "stdout",
     "output_type": "stream",
     "text": [
      "This is a parent class\n"
     ]
    }
   ],
   "source": [
    "hybrid_inh.test_parent()"
   ]
  },
  {
   "cell_type": "code",
   "execution_count": 42,
   "id": "c46e8134-702e-4b59-8c49-6ca27aa57c4e",
   "metadata": {},
   "outputs": [
    {
     "name": "stdout",
     "output_type": "stream",
     "text": [
      "This is a child1 class \n"
     ]
    }
   ],
   "source": [
    "hybrid_inh.test_child1()"
   ]
  },
  {
   "cell_type": "code",
   "execution_count": 43,
   "id": "5d2d9adc-3b22-48c0-8f66-1023bc3fcc58",
   "metadata": {},
   "outputs": [
    {
     "name": "stdout",
     "output_type": "stream",
     "text": [
      "This is a child2 class\n"
     ]
    }
   ],
   "source": [
    "hybrid_inh.test_child2()"
   ]
  },
  {
   "cell_type": "code",
   "execution_count": null,
   "id": "bf20288e-d1d4-4aa7-a9ce-5e0a9824ff6b",
   "metadata": {},
   "outputs": [],
   "source": []
  }
 ],
 "metadata": {
  "kernelspec": {
   "display_name": "Python 3 (ipykernel)",
   "language": "python",
   "name": "python3"
  },
  "language_info": {
   "codemirror_mode": {
    "name": "ipython",
    "version": 3
   },
   "file_extension": ".py",
   "mimetype": "text/x-python",
   "name": "python",
   "nbconvert_exporter": "python",
   "pygments_lexer": "ipython3",
   "version": "3.10.8"
  }
 },
 "nbformat": 4,
 "nbformat_minor": 5
}
