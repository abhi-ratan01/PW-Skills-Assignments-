{
 "cells": [
  {
   "cell_type": "markdown",
   "id": "c3e503e6-51d0-488c-aa68-3e3e1c85308b",
   "metadata": {},
   "source": [
    "# Assignment"
   ]
  },
  {
   "cell_type": "markdown",
   "id": "b3b36480-6076-4e29-ab14-7087213d7e99",
   "metadata": {},
   "source": [
    "## Q1.  Explain with an example each when to use a for loop and a while loop."
   ]
  },
  {
   "cell_type": "markdown",
   "id": "aa0280d2-3bd0-4ec4-8db8-4c8f815568fe",
   "metadata": {},
   "source": [
    "### For Loop =>\n",
    "    A for loop is a control flow statement that executes code for a predefined number of iterations.\n",
    "    The keyword used in this control flow statement is “for”. \n",
    "    When the number of iterations is already known, the for loop is used."
   ]
  },
  {
   "cell_type": "markdown",
   "id": "02c9f52f-6bdc-472b-9f2d-caf1b750dcd3",
   "metadata": {},
   "source": [
    "### Ex.\n",
    "         var_Initialization\n",
    "         for var1 in var2/range():\n",
    "            statements() # Body of loop\n"
   ]
  },
  {
   "cell_type": "markdown",
   "id": "effd9292-0f59-478f-afa2-585346468e61",
   "metadata": {},
   "source": [
    "Program"
   ]
  },
  {
   "cell_type": "code",
   "execution_count": 1,
   "id": "76d910f7-bd6e-414e-a26a-4155060da481",
   "metadata": {},
   "outputs": [
    {
     "name": "stdout",
     "output_type": "stream",
     "text": [
      "2\n",
      "4\n",
      "6\n",
      "8\n",
      "10\n",
      "12\n",
      "14\n",
      "16\n",
      "18\n",
      "20\n"
     ]
    }
   ],
   "source": [
    "for i in range(2,21,2):\n",
    "    print(i)"
   ]
  },
  {
   "cell_type": "markdown",
   "id": "9b15666f-eebd-481d-8ede-ee012f515808",
   "metadata": {},
   "source": [
    "### While Loop =>\n",
    "    A loop that executes a single statement or a group of statements for the given true condition.\n",
    "    The keyword used to represent this loop is \"while\". \n",
    "    A \"while\" loop is used when the number of iterations is unknown."
   ]
  },
  {
   "cell_type": "markdown",
   "id": "897607b0-5fbd-4892-b86c-bbfc18d703a3",
   "metadata": {},
   "source": [
    "## Ex.\n",
    "        var_Initialization\n",
    "        while Condition:\n",
    "            statements() # Body of loop"
   ]
  },
  {
   "cell_type": "markdown",
   "id": "268b3cdd-3ca7-485f-a003-a3959278aeec",
   "metadata": {},
   "source": [
    "Program"
   ]
  },
  {
   "cell_type": "code",
   "execution_count": 2,
   "id": "6830df91-fb3a-4907-8540-73c265f5edbd",
   "metadata": {},
   "outputs": [
    {
     "name": "stdout",
     "output_type": "stream",
     "text": [
      "2\n",
      "4\n",
      "6\n",
      "8\n",
      "10\n",
      "12\n",
      "14\n",
      "16\n",
      "18\n",
      "20\n"
     ]
    }
   ],
   "source": [
    "i = 2\n",
    "result = 1\n",
    "while result <= 10:\n",
    "    print(result*i)\n",
    "    result+=1"
   ]
  },
  {
   "cell_type": "markdown",
   "id": "e8d2db9c-6940-4de2-af99-6672577e5aaa",
   "metadata": {},
   "source": [
    "## Q2. Write a python program to print the sum and product of the first 10 natural numbers using for and while loop"
   ]
  },
  {
   "cell_type": "markdown",
   "id": "1e9b1a06-0942-457f-be19-838f2f1b9223",
   "metadata": {},
   "source": [
    "### For Loop"
   ]
  },
  {
   "cell_type": "markdown",
   "id": "4632d86f-d122-4daf-95fd-49e3f6d650d4",
   "metadata": {},
   "source": [
    "SUM"
   ]
  },
  {
   "cell_type": "code",
   "execution_count": 3,
   "id": "6aa0584f-5421-470d-941c-8c11c540c125",
   "metadata": {},
   "outputs": [
    {
     "data": {
      "text/plain": [
       "55"
      ]
     },
     "execution_count": 3,
     "metadata": {},
     "output_type": "execute_result"
    }
   ],
   "source": [
    "result = 0\n",
    "for i in range(1,11):\n",
    "    result = result + i\n",
    "result"
   ]
  },
  {
   "cell_type": "markdown",
   "id": "1a4ff533-9d8d-43f0-884f-e6f1f2018d4e",
   "metadata": {},
   "source": [
    "PRODUCT"
   ]
  },
  {
   "cell_type": "code",
   "execution_count": 4,
   "id": "f5daafbb-9113-4378-ab21-4efd8f610eff",
   "metadata": {},
   "outputs": [
    {
     "data": {
      "text/plain": [
       "3628800"
      ]
     },
     "execution_count": 4,
     "metadata": {},
     "output_type": "execute_result"
    }
   ],
   "source": [
    "result = 1\n",
    "for i in range(1,11):\n",
    "    result = result * i\n",
    "result"
   ]
  },
  {
   "cell_type": "markdown",
   "id": "414327fe-34df-4d52-a9b2-c748dd35eeb4",
   "metadata": {},
   "source": [
    "### While Loop"
   ]
  },
  {
   "cell_type": "markdown",
   "id": "5afc7a27-30e7-4ed3-b010-9c18e7d33824",
   "metadata": {},
   "source": [
    "SUM"
   ]
  },
  {
   "cell_type": "code",
   "execution_count": 5,
   "id": "82e2b64e-47a3-4d0d-8465-150e4899c2eb",
   "metadata": {},
   "outputs": [
    {
     "data": {
      "text/plain": [
       "55"
      ]
     },
     "execution_count": 5,
     "metadata": {},
     "output_type": "execute_result"
    }
   ],
   "source": [
    "num = 0\n",
    "result = 0\n",
    "while num <= 10:\n",
    "    result = result + num\n",
    "    num = num + 1\n",
    "result"
   ]
  },
  {
   "cell_type": "markdown",
   "id": "6856b33a-53b8-4111-8b09-2e3e693c5790",
   "metadata": {},
   "source": [
    "PRODUCT"
   ]
  },
  {
   "cell_type": "code",
   "execution_count": 6,
   "id": "7d684bde-9e88-4c3e-948a-a3289d18af85",
   "metadata": {},
   "outputs": [
    {
     "data": {
      "text/plain": [
       "3628800"
      ]
     },
     "execution_count": 6,
     "metadata": {},
     "output_type": "execute_result"
    }
   ],
   "source": [
    "num = 1\n",
    "result = 1\n",
    "while num <= 10:\n",
    "    result = result * num\n",
    "    num +=1\n",
    "result"
   ]
  },
  {
   "cell_type": "code",
   "execution_count": null,
   "id": "b6ebcbee-3718-4272-bc46-e4dfd54b3b0b",
   "metadata": {},
   "outputs": [],
   "source": []
  },
  {
   "cell_type": "markdown",
   "id": "fd6d81e7-6799-4e8c-b153-02c2ef23ae66",
   "metadata": {},
   "source": [
    "## Q3. Create a python program to compute the electricity bill for a household.\n",
    "## The per-unit charges in rupees are as follows: For the first 100 units, the user will be charged Rs. 4.5 per unit, for the next 100 units, the user will be charged Rs. 6 per unit, and for the next 100 units, the user will be charged Rs. 10 per unit, After 300 units and above the user will be charged Rs. 20 per unit.\n",
    "## You are required to take the units of electricity consumed in a month from the user as input.\n",
    "## Your program must pass this test case: when the unit of electricity consumed by the user in a month is 310, the total electricity bill should be 2250."
   ]
  },
  {
   "cell_type": "code",
   "execution_count": null,
   "id": "894831d7-4d3e-4ea6-8cf9-85c50cd108f6",
   "metadata": {},
   "outputs": [],
   "source": []
  },
  {
   "cell_type": "markdown",
   "id": "e7d7e919-1935-4b6e-9894-8ac9e324fad2",
   "metadata": {},
   "source": [
    "## Q4. Create a list of numbers from 1 to 100. Use for loop and while loop to calculate the cube of each number and if the cube of that number is divisible by 4 or 5 then append that number in a list and print that list"
   ]
  },
  {
   "cell_type": "markdown",
   "id": "3629d1d2-4dc4-4947-9cf3-221abc940bc3",
   "metadata": {},
   "source": [
    "### For Loop"
   ]
  },
  {
   "cell_type": "code",
   "execution_count": 7,
   "id": "a99b0d67-adc4-496a-9991-4a62ceb738b9",
   "metadata": {},
   "outputs": [
    {
     "data": {
      "text/plain": [
       "[1,\n",
       " 2,\n",
       " 3,\n",
       " 4,\n",
       " 5,\n",
       " 6,\n",
       " 7,\n",
       " 8,\n",
       " 9,\n",
       " 10,\n",
       " 11,\n",
       " 12,\n",
       " 13,\n",
       " 14,\n",
       " 15,\n",
       " 16,\n",
       " 17,\n",
       " 18,\n",
       " 19,\n",
       " 20,\n",
       " 21,\n",
       " 22,\n",
       " 23,\n",
       " 24,\n",
       " 25,\n",
       " 26,\n",
       " 27,\n",
       " 28,\n",
       " 29,\n",
       " 30,\n",
       " 31,\n",
       " 32,\n",
       " 33,\n",
       " 34,\n",
       " 35,\n",
       " 36,\n",
       " 37,\n",
       " 38,\n",
       " 39,\n",
       " 40,\n",
       " 41,\n",
       " 42,\n",
       " 43,\n",
       " 44,\n",
       " 45,\n",
       " 46,\n",
       " 47,\n",
       " 48,\n",
       " 49,\n",
       " 50,\n",
       " 51,\n",
       " 52,\n",
       " 53,\n",
       " 54,\n",
       " 55,\n",
       " 56,\n",
       " 57,\n",
       " 58,\n",
       " 59,\n",
       " 60,\n",
       " 61,\n",
       " 62,\n",
       " 63,\n",
       " 64,\n",
       " 65,\n",
       " 66,\n",
       " 67,\n",
       " 68,\n",
       " 69,\n",
       " 70,\n",
       " 71,\n",
       " 72,\n",
       " 73,\n",
       " 74,\n",
       " 75,\n",
       " 76,\n",
       " 77,\n",
       " 78,\n",
       " 79,\n",
       " 80,\n",
       " 81,\n",
       " 82,\n",
       " 83,\n",
       " 84,\n",
       " 85,\n",
       " 86,\n",
       " 87,\n",
       " 88,\n",
       " 89,\n",
       " 90,\n",
       " 91,\n",
       " 92,\n",
       " 93,\n",
       " 94,\n",
       " 95,\n",
       " 96,\n",
       " 97,\n",
       " 98,\n",
       " 99,\n",
       " 100]"
      ]
     },
     "execution_count": 7,
     "metadata": {},
     "output_type": "execute_result"
    }
   ],
   "source": [
    "l = []\n",
    "for i in range(1,101):\n",
    "    l.append(i)\n",
    "l"
   ]
  },
  {
   "cell_type": "code",
   "execution_count": 8,
   "id": "f6be5231-0563-4731-830b-297f7195e33a",
   "metadata": {},
   "outputs": [
    {
     "data": {
      "text/plain": [
       "[1,\n",
       " 8,\n",
       " 27,\n",
       " 64,\n",
       " 125,\n",
       " 216,\n",
       " 343,\n",
       " 512,\n",
       " 729,\n",
       " 1000,\n",
       " 1331,\n",
       " 1728,\n",
       " 2197,\n",
       " 2744,\n",
       " 3375,\n",
       " 4096,\n",
       " 4913,\n",
       " 5832,\n",
       " 6859,\n",
       " 8000,\n",
       " 9261,\n",
       " 10648,\n",
       " 12167,\n",
       " 13824,\n",
       " 15625,\n",
       " 17576,\n",
       " 19683,\n",
       " 21952,\n",
       " 24389,\n",
       " 27000,\n",
       " 29791,\n",
       " 32768,\n",
       " 35937,\n",
       " 39304,\n",
       " 42875,\n",
       " 46656,\n",
       " 50653,\n",
       " 54872,\n",
       " 59319,\n",
       " 64000,\n",
       " 68921,\n",
       " 74088,\n",
       " 79507,\n",
       " 85184,\n",
       " 91125,\n",
       " 97336,\n",
       " 103823,\n",
       " 110592,\n",
       " 117649,\n",
       " 125000,\n",
       " 132651,\n",
       " 140608,\n",
       " 148877,\n",
       " 157464,\n",
       " 166375,\n",
       " 175616,\n",
       " 185193,\n",
       " 195112,\n",
       " 205379,\n",
       " 216000,\n",
       " 226981,\n",
       " 238328,\n",
       " 250047,\n",
       " 262144,\n",
       " 274625,\n",
       " 287496,\n",
       " 300763,\n",
       " 314432,\n",
       " 328509,\n",
       " 343000,\n",
       " 357911,\n",
       " 373248,\n",
       " 389017,\n",
       " 405224,\n",
       " 421875,\n",
       " 438976,\n",
       " 456533,\n",
       " 474552,\n",
       " 493039,\n",
       " 512000,\n",
       " 531441,\n",
       " 551368,\n",
       " 571787,\n",
       " 592704,\n",
       " 614125,\n",
       " 636056,\n",
       " 658503,\n",
       " 681472,\n",
       " 704969,\n",
       " 729000,\n",
       " 753571,\n",
       " 778688,\n",
       " 804357,\n",
       " 830584,\n",
       " 857375,\n",
       " 884736,\n",
       " 912673,\n",
       " 941192,\n",
       " 970299,\n",
       " 1000000]"
      ]
     },
     "execution_count": 8,
     "metadata": {},
     "output_type": "execute_result"
    }
   ],
   "source": [
    "l2 = []\n",
    "for i in l:\n",
    "    l2.append(i**3)\n",
    "l2"
   ]
  },
  {
   "cell_type": "code",
   "execution_count": 9,
   "id": "314ac06b-b41e-4a87-8b61-45b7e38ea729",
   "metadata": {},
   "outputs": [
    {
     "data": {
      "text/plain": [
       "[8,\n",
       " 64,\n",
       " 125,\n",
       " 216,\n",
       " 512,\n",
       " 1000,\n",
       " 1728,\n",
       " 2744,\n",
       " 3375,\n",
       " 4096,\n",
       " 5832,\n",
       " 8000,\n",
       " 10648,\n",
       " 13824,\n",
       " 15625,\n",
       " 17576,\n",
       " 21952,\n",
       " 27000,\n",
       " 32768,\n",
       " 39304,\n",
       " 42875,\n",
       " 46656,\n",
       " 54872,\n",
       " 64000,\n",
       " 74088,\n",
       " 85184,\n",
       " 91125,\n",
       " 97336,\n",
       " 110592,\n",
       " 125000,\n",
       " 140608,\n",
       " 157464,\n",
       " 166375,\n",
       " 175616,\n",
       " 195112,\n",
       " 216000,\n",
       " 238328,\n",
       " 262144,\n",
       " 274625,\n",
       " 287496,\n",
       " 314432,\n",
       " 343000,\n",
       " 373248,\n",
       " 405224,\n",
       " 421875,\n",
       " 438976,\n",
       " 474552,\n",
       " 512000,\n",
       " 551368,\n",
       " 592704,\n",
       " 614125,\n",
       " 636056,\n",
       " 681472,\n",
       " 729000,\n",
       " 778688,\n",
       " 830584,\n",
       " 857375,\n",
       " 884736,\n",
       " 941192,\n",
       " 1000000]"
      ]
     },
     "execution_count": 9,
     "metadata": {},
     "output_type": "execute_result"
    }
   ],
   "source": [
    "l3 = []\n",
    "for i in l2:\n",
    "    if i%4 == 0 or i%5 == 0:\n",
    "        l3.append(i)\n",
    "l3"
   ]
  },
  {
   "cell_type": "markdown",
   "id": "9227ef94-92b9-4303-8b09-a0871f12a136",
   "metadata": {},
   "source": [
    "## While Loop"
   ]
  },
  {
   "cell_type": "code",
   "execution_count": 10,
   "id": "d3e7166f-a49c-49d8-b5f0-68e52eeb2a2f",
   "metadata": {},
   "outputs": [],
   "source": [
    "l = []\n",
    "l1 = []\n",
    "i = 0\n",
    "n = 0\n",
    "l2 = []\n",
    "while n <= 100:\n",
    "    l.append(n)\n",
    "    n = n+1"
   ]
  },
  {
   "cell_type": "code",
   "execution_count": 11,
   "id": "915b2a08-b62c-463c-b569-f249a8c9586a",
   "metadata": {},
   "outputs": [],
   "source": [
    "while i < len(l):\n",
    "    l1.append(i**3)\n",
    "    i = i+1"
   ]
  },
  {
   "cell_type": "code",
   "execution_count": 12,
   "id": "b68f533d-0205-419c-8089-074b8c4047ee",
   "metadata": {},
   "outputs": [
    {
     "data": {
      "text/plain": [
       "[0,\n",
       " 8,\n",
       " 64,\n",
       " 125,\n",
       " 216,\n",
       " 512,\n",
       " 1000,\n",
       " 1728,\n",
       " 2744,\n",
       " 3375,\n",
       " 4096,\n",
       " 5832,\n",
       " 8000,\n",
       " 10648,\n",
       " 13824,\n",
       " 15625,\n",
       " 17576,\n",
       " 21952,\n",
       " 27000,\n",
       " 32768,\n",
       " 39304,\n",
       " 42875,\n",
       " 46656,\n",
       " 54872,\n",
       " 64000,\n",
       " 74088,\n",
       " 85184,\n",
       " 91125,\n",
       " 97336,\n",
       " 110592,\n",
       " 125000,\n",
       " 140608,\n",
       " 157464,\n",
       " 166375,\n",
       " 175616,\n",
       " 195112,\n",
       " 216000,\n",
       " 238328,\n",
       " 262144,\n",
       " 274625,\n",
       " 287496,\n",
       " 314432,\n",
       " 343000,\n",
       " 373248,\n",
       " 405224,\n",
       " 421875,\n",
       " 438976,\n",
       " 474552,\n",
       " 512000,\n",
       " 551368,\n",
       " 592704,\n",
       " 614125,\n",
       " 636056,\n",
       " 681472,\n",
       " 729000,\n",
       " 778688,\n",
       " 830584,\n",
       " 857375,\n",
       " 884736,\n",
       " 941192,\n",
       " 1000000]"
      ]
     },
     "execution_count": 12,
     "metadata": {},
     "output_type": "execute_result"
    }
   ],
   "source": [
    "j = 0\n",
    "while j < len(l1):\n",
    "    if l1[j]%4 == 0 or l1[j]%5 == 0:\n",
    "        l2.append(l1[j])\n",
    "    j = j + 1\n",
    "l2"
   ]
  },
  {
   "cell_type": "markdown",
   "id": "8b8740f8-39fa-4db9-9af8-67906a95fca9",
   "metadata": {},
   "source": [
    "## Q5.  Write a program to filter count vowels in the below-given string.   string = \"I want to become a data scientist\""
   ]
  },
  {
   "cell_type": "code",
   "execution_count": 13,
   "id": "021cc282-fedf-4d54-8ff0-09716d41ad1c",
   "metadata": {},
   "outputs": [
    {
     "data": {
      "text/plain": [
       "12"
      ]
     },
     "execution_count": 13,
     "metadata": {},
     "output_type": "execute_result"
    }
   ],
   "source": [
    "string = \"I want to become a data scientist\"\n",
    "count = 0\n",
    "for i in string:\n",
    "    if i=='a' or i=='e' or i=='i' or i=='o' or i=='u' or i=='A' or i=='E' or i=='I' or i=='O' or i=='U':\n",
    "        count = count + 1\n",
    "count"
   ]
  },
  {
   "cell_type": "markdown",
   "id": "41fd9be9-b36b-4a4f-a36a-b9c2c4061675",
   "metadata": {},
   "source": [
    "### OR"
   ]
  },
  {
   "cell_type": "code",
   "execution_count": 14,
   "id": "a472296e-2bbe-48f9-bd17-afb5ba71d9d7",
   "metadata": {},
   "outputs": [
    {
     "data": {
      "text/plain": [
       "12"
      ]
     },
     "execution_count": 14,
     "metadata": {},
     "output_type": "execute_result"
    }
   ],
   "source": [
    "l = ['a', 'e', 'i', 'o' , 'u', 'A', 'E', 'I', 'O', 'U']\n",
    "string = \"I want to become a data scientist\"\n",
    "count = 0\n",
    "for i in string:\n",
    "    if i in l:\n",
    "        count = count + 1\n",
    "count"
   ]
  }
 ],
 "metadata": {
  "kernelspec": {
   "display_name": "Python 3 (ipykernel)",
   "language": "python",
   "name": "python3"
  },
  "language_info": {
   "codemirror_mode": {
    "name": "ipython",
    "version": 3
   },
   "file_extension": ".py",
   "mimetype": "text/x-python",
   "name": "python",
   "nbconvert_exporter": "python",
   "pygments_lexer": "ipython3",
   "version": "3.10.8"
  }
 },
 "nbformat": 4,
 "nbformat_minor": 5
}
