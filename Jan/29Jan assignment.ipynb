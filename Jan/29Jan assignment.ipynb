{
 "cells": [
  {
   "cell_type": "markdown",
   "id": "113fb117-99a2-43bd-923d-a133337ceac8",
   "metadata": {},
   "source": [
    "# Assignment"
   ]
  },
  {
   "cell_type": "markdown",
   "id": "1f41b8d1-7315-40d2-83cd-60803de2db5a",
   "metadata": {},
   "source": [
    "### Q.1 who developed the python programming language?"
   ]
  },
  {
   "cell_type": "markdown",
   "id": "d068f6db-7e7b-497b-9b20-7ddff5fb2c31",
   "metadata": {},
   "source": [
    "Python developed by the Guido van Rossum."
   ]
  },
  {
   "cell_type": "markdown",
   "id": "0970e6ab-60a6-4659-971d-55556ba7f9f0",
   "metadata": {},
   "source": [
    "### Q.2 Which type programming language python does supports?"
   ]
  },
  {
   "cell_type": "markdown",
   "id": "4ebc91d4-1f60-4581-9cc6-441d6e04677f",
   "metadata": {},
   "source": [
    "Object-oriented programming and structured programming are fully supported."
   ]
  },
  {
   "cell_type": "markdown",
   "id": "3f05509b-e0ea-4ce4-a1f8-ec854d8289f4",
   "metadata": {},
   "source": [
    "### Q.3 Is pythod case sensitive when dealing with identifiers?"
   ]
  },
  {
   "cell_type": "markdown",
   "id": "f06046df-7605-4586-84ba-e9d538ae4be8",
   "metadata": {},
   "source": [
    "Yes"
   ]
  },
  {
   "cell_type": "markdown",
   "id": "f721ead5-76c8-423c-8ba0-c8bb0c24ef87",
   "metadata": {},
   "source": [
    "### Q.4 What is the correct extension of the python file?"
   ]
  },
  {
   "cell_type": "markdown",
   "id": "5e7fbfb9-59fa-4666-acec-b2ff86756fff",
   "metadata": {},
   "source": [
    ".py"
   ]
  },
  {
   "cell_type": "markdown",
   "id": "042f11ed-55b1-446a-b764-c61ff1f44f04",
   "metadata": {},
   "source": [
    "### Q.5 Is python code compiled or interpreted?"
   ]
  },
  {
   "cell_type": "markdown",
   "id": "9e02f4dc-cf41-4edf-b280-1c84f09784b6",
   "metadata": {},
   "source": [
    "Generally we call python as interpreted language\n"
   ]
  },
  {
   "cell_type": "markdown",
   "id": "182d2f08-28da-49cc-92e2-111863f3b489",
   "metadata": {},
   "source": [
    "But is half correct\n"
   ]
  },
  {
   "cell_type": "markdown",
   "id": "ba692f3d-0c5b-454b-83fd-aeadc4615a2f",
   "metadata": {},
   "source": [
    "The source code is converted into bytecode(.pyc) that is then executed by the Python virtual machine."
   ]
  },
  {
   "cell_type": "markdown",
   "id": "99b6968e-c5a1-4dff-918f-9c34c94b9c31",
   "metadata": {},
   "source": [
    "### Q.6 Name a few blocks of code used to define in python language?"
   ]
  },
  {
   "cell_type": "code",
   "execution_count": 3,
   "id": "69d54076-6396-411d-a638-4392176ddf0e",
   "metadata": {},
   "outputs": [
    {
     "name": "stdout",
     "output_type": "stream",
     "text": [
      "390\n"
     ]
    }
   ],
   "source": [
    "def myfunction():\n",
    "    print('Hello World')\n",
    "\n",
    "def add(a,b):\n",
    "    print(a+b)\n",
    "add(345,45)"
   ]
  },
  {
   "cell_type": "markdown",
   "id": "54d7ca7c-6278-4246-8274-daabf4ddc283",
   "metadata": {},
   "source": [
    "### Q.7 State a character used to give single-line comments in python?"
   ]
  },
  {
   "cell_type": "code",
   "execution_count": 4,
   "id": "5149facc-ac70-45c9-bcbb-1114221c3075",
   "metadata": {},
   "outputs": [],
   "source": [
    "#     # (hash) is use for a single line comment"
   ]
  },
  {
   "cell_type": "markdown",
   "id": "ea3599bb-0c72-4099-96ab-2e9b00f19aac",
   "metadata": {},
   "source": [
    "### Q.8 Mention functions which can help us to find the version of python that we are currently working on?"
   ]
  },
  {
   "cell_type": "markdown",
   "id": "61601f7c-34cb-413b-8fd3-f684561a005e",
   "metadata": {},
   "source": [
    "Python -V"
   ]
  },
  {
   "cell_type": "markdown",
   "id": "61451fd6-bf15-4f4b-9d51-9aff32a5e902",
   "metadata": {},
   "source": [
    "### Q.9 Python supports the creation of anonymous functions at runtime, using a construct called -------------------."
   ]
  },
  {
   "cell_type": "raw",
   "id": "faf5b87d-3ce0-4d77-b9e6-b6047d7e8ed0",
   "metadata": {},
   "source": [
    "Lambda Function"
   ]
  },
  {
   "cell_type": "markdown",
   "id": "13ea67fc-beed-467e-9f8d-02c3f5435832",
   "metadata": {},
   "source": [
    "### Q.10 What does pip stand for python?"
   ]
  },
  {
   "cell_type": "markdown",
   "id": "cf92df81-145e-4820-9fb5-39709a9420b3",
   "metadata": {},
   "source": [
    "preferred installer program"
   ]
  },
  {
   "cell_type": "markdown",
   "id": "e68bad9a-a591-45dc-a273-39fd08d158a2",
   "metadata": {},
   "source": [
    "### Q.11 Mention a few built-in function in python?"
   ]
  },
  {
   "cell_type": "markdown",
   "id": "6908fb0f-f1a4-4204-bbd3-995f660b8f5d",
   "metadata": {},
   "source": [
    " str()\n",
    " int()\n",
    " print()\n",
    " range()\n",
    " len()\n",
    " max()\n",
    " type()\n",
    " input()"
   ]
  },
  {
   "cell_type": "markdown",
   "id": "89b67f99-9127-4a8a-88cc-a4fe3f074580",
   "metadata": {},
   "source": [
    "### Q.12 What is the maximum possible length of an dentifier in python?"
   ]
  },
  {
   "cell_type": "markdown",
   "id": "4a36abc3-f003-4064-9e13-6a952e1fef13",
   "metadata": {},
   "source": [
    "An identifier can have a maximum length of 79 characters in Python."
   ]
  },
  {
   "cell_type": "markdown",
   "id": "cd819108-ead0-4187-b251-d518bd4d0073",
   "metadata": {},
   "source": [
    "### Q.13 What are the benefits of using python?"
   ]
  },
  {
   "cell_type": "markdown",
   "id": "a61dc2dc-7774-4de8-91a5-6457aed47369",
   "metadata": {},
   "source": [
    "Data science"
   ]
  },
  {
   "cell_type": "markdown",
   "id": "893a76d8-9972-4464-8c0f-458fd22b6084",
   "metadata": {},
   "source": [
    "Scientific and mathematical computing"
   ]
  },
  {
   "cell_type": "markdown",
   "id": "c7b6c755-21da-4f99-9862-b15104d91696",
   "metadata": {},
   "source": [
    "Web development"
   ]
  },
  {
   "cell_type": "markdown",
   "id": "ad2fc198-7848-4df2-8c60-1c0c355d12fb",
   "metadata": {},
   "source": [
    "System automation and administration"
   ]
  },
  {
   "cell_type": "markdown",
   "id": "d4a669af-51fb-4192-8326-372d90a0c46a",
   "metadata": {},
   "source": [
    "Computer graphics"
   ]
  },
  {
   "cell_type": "markdown",
   "id": "d1f08bec-0b96-43ed-a123-739592f93c7c",
   "metadata": {},
   "source": [
    "Basic game development"
   ]
  },
  {
   "cell_type": "markdown",
   "id": "37b494d3-8329-4bbb-bc45-4482d0d033ec",
   "metadata": {},
   "source": [
    "Less code"
   ]
  },
  {
   "cell_type": "markdown",
   "id": "ff98c2a8-ec63-41c0-be1f-3f4a10618eb0",
   "metadata": {},
   "source": [
    "Simple and easy to learn\n"
   ]
  },
  {
   "cell_type": "markdown",
   "id": "3b23a51d-63a2-4a97-93fe-8e9d29e344f8",
   "metadata": {},
   "source": [
    "Open Source And Free"
   ]
  },
  {
   "cell_type": "markdown",
   "id": "6248fd7b-5ed4-451d-930f-e163ceb22b34",
   "metadata": {},
   "source": [
    "### Q.14 How is memory managed in python?"
   ]
  },
  {
   "cell_type": "markdown",
   "id": "5f8fa869-a1dc-43a4-bda5-eb1bb7989caf",
   "metadata": {},
   "source": [
    "Memory management in Python involves a private heap containing all Python objects and data structures. "
   ]
  },
  {
   "cell_type": "markdown",
   "id": "091066b9-0aa2-4f4d-a0b9-e1666d557191",
   "metadata": {},
   "source": [
    "### Q.15 How to install python on Windows and set path variables?"
   ]
  },
  {
   "cell_type": "markdown",
   "id": "aacb28b8-4a0f-4dac-9278-d7cc8887c25b",
   "metadata": {},
   "source": [
    "Download python .exe file from python official website\n"
   ]
  },
  {
   "cell_type": "markdown",
   "id": "ff0de78c-f0da-4dfa-b35b-4a6f653cc452",
   "metadata": {},
   "source": [
    "For path setup\n"
   ]
  },
  {
   "cell_type": "markdown",
   "id": "1f272b9f-ef25-4e92-93c9-a7e0af561972",
   "metadata": {},
   "source": [
    "Find in C-Drive where python is install\n"
   ]
  },
  {
   "cell_type": "markdown",
   "id": "185bb6c0-e1af-4ce3-858a-a2e02756e15c",
   "metadata": {},
   "source": [
    "Copy the path\n"
   ]
  },
  {
   "cell_type": "markdown",
   "id": "b5e34a9b-9a9f-4991-9a4e-fdbe97f1e2a3",
   "metadata": {},
   "source": [
    "Go to This PC > Properties > Advanced system settings > Environment Variables\n"
   ]
  },
  {
   "cell_type": "markdown",
   "id": "5ce9065a-ca55-4ff6-9349-63a618ef438c",
   "metadata": {},
   "source": [
    "Select user/System variable and add the PATH here"
   ]
  },
  {
   "cell_type": "markdown",
   "id": "42d726e7-c0fa-4b84-bca9-946cf2ea71f9",
   "metadata": {},
   "source": [
    "### Q.16 Is indentation required in python?"
   ]
  },
  {
   "cell_type": "markdown",
   "id": "f7bb9f2c-c980-429a-900e-a840b06976da",
   "metadata": {},
   "source": [
    "The indentation in Python is very important."
   ]
  },
  {
   "cell_type": "markdown",
   "id": "21eb6e21-50a4-44e3-abf4-506eea66c4be",
   "metadata": {},
   "source": [
    "Python uses indentation to indicate a block of code."
   ]
  },
  {
   "cell_type": "code",
   "execution_count": null,
   "id": "aa04c577-da9f-48c3-97d5-cc997527c0ae",
   "metadata": {},
   "outputs": [],
   "source": []
  }
 ],
 "metadata": {
  "kernelspec": {
   "display_name": "Python 3 (ipykernel)",
   "language": "python",
   "name": "python3"
  },
  "language_info": {
   "codemirror_mode": {
    "name": "ipython",
    "version": 3
   },
   "file_extension": ".py",
   "mimetype": "text/x-python",
   "name": "python",
   "nbconvert_exporter": "python",
   "pygments_lexer": "ipython3",
   "version": "3.10.8"
  }
 },
 "nbformat": 4,
 "nbformat_minor": 5
}
