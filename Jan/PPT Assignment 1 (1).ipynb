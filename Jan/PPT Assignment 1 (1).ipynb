{
 "cells": [
  {
   "cell_type": "markdown",
   "id": "8e0f3dcd-896c-4b03-9e1c-561fb0257986",
   "metadata": {},
   "source": [
    "# Assignment 1"
   ]
  },
  {
   "cell_type": "markdown",
   "id": "05eb2074-70da-40da-bb06-548f27e23933",
   "metadata": {},
   "source": []
  },
  {
   "cell_type": "code",
   "execution_count": 23,
   "id": "8659c700-92be-4935-b7a1-a0322f981b64",
   "metadata": {},
   "outputs": [],
   "source": [
    "class Solution:\n",
    "    def twoSum(self, nums: list[int], target: int) -> list[int]:\n",
    "        hashmap = {}\n",
    "        for i in range(len(nums)):\n",
    "            hashmap[nums[i]] = i\n",
    "        for i in range(len(nums)):\n",
    "            complement = target - nums[i]\n",
    "            if complement in hashmap and hashmap[complement] != i:\n",
    "                return [i, hashmap[complement]] "
   ]
  },
  {
   "cell_type": "code",
   "execution_count": null,
   "id": "53aaec3a-f114-4649-985d-75fb4fb2fb30",
   "metadata": {},
   "outputs": [],
   "source": []
  },
  {
   "cell_type": "code",
   "execution_count": 24,
   "id": "88f26845-22c9-4b3c-b9f3-a3627f384f1b",
   "metadata": {},
   "outputs": [],
   "source": [
    "class RemoveElement:\n",
    "    def removeElement(nums: list[int], val: int) -> int:\n",
    "        count = 0\n",
    "        for i in range(len(nums)):\n",
    "            if nums[i] != val:\n",
    "                nums[count] = nums[i]\n",
    "                count += 1\n",
    "        return count"
   ]
  },
  {
   "cell_type": "code",
   "execution_count": null,
   "id": "e960bf4d-25cf-4fe9-8bf8-69633804a69a",
   "metadata": {},
   "outputs": [],
   "source": []
  },
  {
   "cell_type": "code",
   "execution_count": 25,
   "id": "c3b2c767-3796-4c94-ae8d-dd61d4e05dcc",
   "metadata": {},
   "outputs": [],
   "source": [
    "class Solution(object):\n",
    "    def searchInsert(self, nums, target):\n",
    "        start = 0\n",
    "        end = len(nums) - 1\n",
    "        \n",
    "        while (start <= end):\n",
    "            mid = (start + end)/2\n",
    "            if nums[mid] == target:\n",
    "                return mid\n",
    "            \n",
    "            elif target > nums[mid]:\n",
    "                start = mid + 1\n",
    "                 \n",
    "            else:\n",
    "                end = mid -1\n",
    "                \n",
    "        return end + 1"
   ]
  },
  {
   "cell_type": "code",
   "execution_count": null,
   "id": "96457bfa-f000-4e1e-b7de-1fa51ebc2962",
   "metadata": {},
   "outputs": [],
   "source": []
  },
  {
   "cell_type": "code",
   "execution_count": 26,
   "id": "8c0589b1-eff0-44c3-a01a-c8e3fb59f65f",
   "metadata": {},
   "outputs": [],
   "source": [
    "class Solution(object):\n",
    "    def plusOne(self, digits):\n",
    "       \n",
    "        digit_length = len(digits)\n",
    "        \n",
    "        i = digit_length - 1\n",
    "        \n",
    "        while digits[i] == 9 and i >= 0:\n",
    "            i -= 1\n",
    "        \n",
    "        if i == -1:\n",
    "            results = [0]*(digit_length + 1)\n",
    "            results[0] = 1\n",
    "            return results\n",
    "        \n",
    "        results = [0]*(digit_length)\n",
    "        \n",
    "        results[i] = digits[i] + 1\n",
    "        \n",
    "        for j in range(i-1, -1, -1):\n",
    "            results[j] = digits[j]\n",
    "        \n",
    "        return results"
   ]
  },
  {
   "cell_type": "code",
   "execution_count": null,
   "id": "8fb60190-6b62-4190-bee1-8288597c784c",
   "metadata": {},
   "outputs": [],
   "source": []
  },
  {
   "cell_type": "code",
   "execution_count": 27,
   "id": "ffacc474-f50b-4a4e-b26f-0ee477088c5c",
   "metadata": {},
   "outputs": [],
   "source": [
    "class Solution(object):\n",
    "    def merge(self, nums1, m, nums2, n):\n",
    "        i = int(m - 1)\n",
    "        j = int(n - 1)\n",
    "        k = int(m + n - 1)\n",
    "        \n",
    "        while (k >= 0):\n",
    "            if i>=0 and j>=0:\n",
    "                if(nums2[j] > nums1[i]):\n",
    "                    nums1[k] = nums2[j]\n",
    "                    k -= 1\n",
    "                    j -= 1\n",
    "                else:\n",
    "                    nums1[k] = nums1[i]\n",
    "                    k -= 1\n",
    "                    i -= 1\n",
    "            elif j >= 0:\n",
    "                nums1[k] = nums2[j]\n",
    "                k -= 1\n",
    "                j -= 1\n",
    "            else:\n",
    "                break"
   ]
  },
  {
   "cell_type": "code",
   "execution_count": null,
   "id": "6875a0d6-b1ab-40b8-939e-833e5eaabc37",
   "metadata": {},
   "outputs": [],
   "source": []
  },
  {
   "cell_type": "code",
   "execution_count": 28,
   "id": "8ba07c2b-6108-40e4-8662-4adc0f98103b",
   "metadata": {},
   "outputs": [],
   "source": [
    "class Solution(object):\n",
    "    def containsDuplicate(self, nums):\n",
    "        dup = 0\n",
    "        nums.sort()\n",
    "        \n",
    "        for i in range(1, len(nums)):\n",
    "            if nums[i] == nums[i - 1]:\n",
    "                dup += 1\n",
    "        return dup != 0"
   ]
  },
  {
   "cell_type": "code",
   "execution_count": null,
   "id": "f9c6acc0-242a-462b-aa56-546db17d3b27",
   "metadata": {},
   "outputs": [],
   "source": []
  },
  {
   "cell_type": "code",
   "execution_count": 29,
   "id": "a76b69f1-5591-4df7-80e5-9707a94ba097",
   "metadata": {},
   "outputs": [],
   "source": [
    "class Solution:\n",
    "    def moveZeroes(self, nums):\n",
    "        pos = 0\n",
    "        \n",
    "        for i in range(len(nums)):\n",
    "            el = nums[i]\n",
    "            if el != 0:\n",
    "                nums[pos], nums[i] = nums[i], nums[pos]\n",
    "                pos += 1"
   ]
  },
  {
   "cell_type": "code",
   "execution_count": null,
   "id": "38971e23-4130-4abb-a5d1-6206c4195b78",
   "metadata": {},
   "outputs": [],
   "source": []
  },
  {
   "cell_type": "code",
   "execution_count": null,
   "id": "c4f29035-4e83-4298-bfbb-c0f8ea429290",
   "metadata": {},
   "outputs": [],
   "source": []
  },
  {
   "cell_type": "code",
   "execution_count": 30,
   "id": "1252c59b-2a57-486e-9602-b67efc0b0775",
   "metadata": {},
   "outputs": [],
   "source": [
    "class Solution:\n",
    "    def findErrorNums(self, nums: list[int]) -> list[int]:\n",
    "        N, dupe = len(nums), 0\n",
    "        seen, sumN = [0] * (N+1), N * (N+1) // 2\n",
    "        for num in nums:\n",
    "            sumN -= num\n",
    "            if seen[num]: dupe = num\n",
    "            seen[num] += 1\n",
    "        return [dupe, sumN + dupe]"
   ]
  },
  {
   "cell_type": "code",
   "execution_count": null,
   "id": "5991d902-3d71-4232-9690-473375ac5d78",
   "metadata": {},
   "outputs": [],
   "source": []
  },
  {
   "cell_type": "code",
   "execution_count": null,
   "id": "c380cbe7-81ce-473d-bdba-1061c957f4b0",
   "metadata": {},
   "outputs": [],
   "source": []
  },
  {
   "cell_type": "code",
   "execution_count": null,
   "id": "c6bc3468-f391-4aa0-b9f8-5b825c490aab",
   "metadata": {},
   "outputs": [],
   "source": []
  },
  {
   "cell_type": "code",
   "execution_count": null,
   "id": "0e599add-94d2-4d65-9f16-11c46588f7fd",
   "metadata": {},
   "outputs": [],
   "source": []
  },
  {
   "cell_type": "code",
   "execution_count": null,
   "id": "b23ec247-161e-49e9-9bfa-07126bd90bea",
   "metadata": {},
   "outputs": [],
   "source": []
  },
  {
   "cell_type": "code",
   "execution_count": null,
   "id": "1e30548a-59c4-4a61-827e-eb0b73c7eb78",
   "metadata": {},
   "outputs": [],
   "source": []
  },
  {
   "cell_type": "code",
   "execution_count": null,
   "id": "b252ea21-ada0-41ad-82bd-b8ca375c3f25",
   "metadata": {},
   "outputs": [],
   "source": []
  },
  {
   "cell_type": "code",
   "execution_count": null,
   "id": "cd839050-aff9-42cb-9ea4-d42657797fd3",
   "metadata": {},
   "outputs": [],
   "source": []
  },
  {
   "cell_type": "code",
   "execution_count": null,
   "id": "83701caf-0d99-4460-8075-e640c50fe44e",
   "metadata": {},
   "outputs": [],
   "source": []
  },
  {
   "cell_type": "code",
   "execution_count": null,
   "id": "d4516c88-a826-4311-920b-f3a8f88dd6df",
   "metadata": {},
   "outputs": [],
   "source": []
  }
 ],
 "metadata": {
  "kernelspec": {
   "display_name": "Python 3 (ipykernel)",
   "language": "python",
   "name": "python3"
  },
  "language_info": {
   "codemirror_mode": {
    "name": "ipython",
    "version": 3
   },
   "file_extension": ".py",
   "mimetype": "text/x-python",
   "name": "python",
   "nbconvert_exporter": "python",
   "pygments_lexer": "ipython3",
   "version": "3.10.8"
  }
 },
 "nbformat": 4,
 "nbformat_minor": 5
}
