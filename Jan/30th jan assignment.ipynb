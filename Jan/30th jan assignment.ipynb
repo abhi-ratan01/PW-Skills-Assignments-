{
 "cells": [
  {
   "cell_type": "markdown",
   "id": "6abc3211-544a-4dac-932f-ede283c4e72b",
   "metadata": {},
   "source": [
    "# Assignment"
   ]
  },
  {
   "cell_type": "markdown",
   "id": "07bf0b44-fdb6-4e08-9f63-7a55ec84559c",
   "metadata": {},
   "source": [
    "### Q.1 Write a program to accept percentage from the user and display the grade according to the following criteria:"
   ]
  },
  {
   "cell_type": "code",
   "execution_count": 1,
   "id": "6178a039-4d39-412a-94e0-97656c5f7149",
   "metadata": {},
   "outputs": [
    {
     "name": "stdin",
     "output_type": "stream",
     "text": [
      "Enter a Marks: 890\n"
     ]
    },
    {
     "name": "stdout",
     "output_type": "stream",
     "text": [
      "A\n"
     ]
    }
   ],
   "source": [
    "marks = int(input('Enter a Marks:'))\n",
    "if marks >90:\n",
    "    print('A')\n",
    "elif marks > 80 and marks <= 90:\n",
    "    print('B')\n",
    "elif marks >= 60 and marks <= 80:\n",
    "    print('C')\n",
    "else:\n",
    "    print('D')"
   ]
  },
  {
   "cell_type": "markdown",
   "id": "840ef831-96e2-44aa-a57d-a26d1560d221",
   "metadata": {},
   "source": [
    "### Q.2 Write a program to accept the cost price of a bike and display the road tax to be paid according to the following criteria"
   ]
  },
  {
   "cell_type": "code",
   "execution_count": 2,
   "id": "52297ecf-81a4-4bba-993b-a8667f446069",
   "metadata": {},
   "outputs": [
    {
     "name": "stdin",
     "output_type": "stream",
     "text": [
      "Enter a cost price: 90\n"
     ]
    },
    {
     "name": "stdout",
     "output_type": "stream",
     "text": [
      "5%\n"
     ]
    }
   ],
   "source": [
    "cost = int(input('Enter a cost price:'))\n",
    "if cost > 100000:\n",
    "    print('15%')\n",
    "elif cost > 50000 and cost <= 100000:\n",
    "    print('10%')\n",
    "else:\n",
    "    print('5%')"
   ]
  },
  {
   "cell_type": "markdown",
   "id": "fb5ddb04-a3b0-4cc2-a834-93c9e446ce0d",
   "metadata": {},
   "source": [
    "### Q.3 Accept any city from the user and display monuments of that city."
   ]
  },
  {
   "cell_type": "code",
   "execution_count": 3,
   "id": "293b244e-6dbf-4a3e-8aa8-cc27d90724af",
   "metadata": {},
   "outputs": [
    {
     "name": "stdin",
     "output_type": "stream",
     "text": [
      "Enter a city name : 79\n"
     ]
    },
    {
     "name": "stdout",
     "output_type": "stream",
     "text": [
      "Monument None\n"
     ]
    }
   ],
   "source": [
    "city = input('Enter a city name :')\n",
    "if city == 'Delhi':\n",
    "    print('Monument ' + 'Red Fort')\n",
    "elif city == 'Agra':\n",
    "    print('Monument ' + 'Taj Mahal')\n",
    "elif city == 'Jaipur':\n",
    "    print('Monument ' + 'Jai Mahal')\n",
    "else:\n",
    "    print('Monument ' + 'None')"
   ]
  },
  {
   "cell_type": "markdown",
   "id": "c1282d54-fcb4-4062-be6f-7b46cb9ce06e",
   "metadata": {},
   "source": [
    "### Q.4 Check how many times a given number can be divided by 3 before it is less than or equal to 10."
   ]
  },
  {
   "cell_type": "code",
   "execution_count": null,
   "id": "4cc4c548-4017-4be4-b060-5e6fd56557b8",
   "metadata": {},
   "outputs": [],
   "source": [
    "num = int(input('Enter a number:'))\n",
    "count = 0\n",
    "while num >= 10:\n",
    "    num = num/3\n",
    "    count = count + 1\n",
    "count"
   ]
  },
  {
   "cell_type": "markdown",
   "id": "0a78c61d-8934-4fed-9412-ca073712ba94",
   "metadata": {},
   "source": [
    "### Q.5 Why and When to Use While Loop in Python give a detailed description with Example."
   ]
  },
  {
   "cell_type": "markdown",
   "id": "f53e4a64-f27e-4a54-9330-fd43aefa6850",
   "metadata": {},
   "source": [
    "We use do while when we want to execute the body of the at least once.\n",
    "And until some condition false, then we should go for while loop.\n"
   ]
  },
  {
   "cell_type": "markdown",
   "id": "39273260-cbd2-4888-9724-0f6d881a56d6",
   "metadata": {},
   "source": [
    "### Q.6 Use nested While loop to print 3 different pattern."
   ]
  },
  {
   "cell_type": "code",
   "execution_count": 1,
   "id": "a0c00946-3637-4dd0-a4d8-cdf569ca95e2",
   "metadata": {},
   "outputs": [
    {
     "name": "stdout",
     "output_type": "stream",
     "text": [
      " *\n",
      " * *\n",
      " * * *\n",
      " * * * *\n",
      " * * * * *\n",
      " * * * * * *\n",
      " * * * * * * *\n",
      " * * * * * * * *\n",
      " * * * * * * * * *\n",
      " * * * * * * * * * *\n"
     ]
    }
   ],
   "source": [
    "n = 0\n",
    "i = 1\n",
    "c = ' *'\n",
    "while n <=10:\n",
    "    while i <=10:\n",
    "        print(c*i)\n",
    "        i = i + 1\n",
    "    n = n+1"
   ]
  },
  {
   "cell_type": "code",
   "execution_count": 2,
   "id": "0ac39e3f-ae00-49c2-bb65-0547db767b39",
   "metadata": {},
   "outputs": [
    {
     "name": "stdout",
     "output_type": "stream",
     "text": [
      " * * * * * * * * * *\n",
      " * * * * * * * * *\n",
      " * * * * * * * *\n",
      " * * * * * * *\n",
      " * * * * * *\n",
      " * * * * *\n",
      " * * * *\n",
      " * * *\n",
      " * *\n",
      " *\n"
     ]
    }
   ],
   "source": [
    "n = 0\n",
    "i = 10\n",
    "c = ' *'\n",
    "while n <=10:\n",
    "    while i >= 1:\n",
    "        print(c*i)\n",
    "        i = i - 1\n",
    "    n = n+1"
   ]
  },
  {
   "cell_type": "code",
   "execution_count": 3,
   "id": "2b5cd9b4-d240-4fb8-84c9-cb1522ec62bf",
   "metadata": {},
   "outputs": [
    {
     "name": "stdout",
     "output_type": "stream",
     "text": [
      "    * \n",
      "      *  * \n",
      "        *  *  * \n",
      "          *  *  *  * \n",
      "            *  *  *  *  * \n",
      "              *  *  *  *  *  * \n",
      "                *  *  *  *  *  *  * \n",
      "                  *  *  *  *  *  *  *  * \n",
      "                    *  *  *  *  *  *  *  *  * \n",
      "                      *  *  *  *  *  *  *  *  *  * \n"
     ]
    }
   ],
   "source": [
    "n = 1\n",
    "i = 1\n",
    "c = ' * '\n",
    "d = '  '\n",
    "while n <=10:\n",
    "    while i <=10:\n",
    "        print(d*i,c*i)\n",
    "        i = i + 1\n",
    "    n = n+1"
   ]
  },
  {
   "cell_type": "markdown",
   "id": "e1570a6a-54eb-49e9-82b0-c1c5207adf00",
   "metadata": {},
   "source": [
    "### Q.7 Reverse a while loop to display numbers from 10 to 1"
   ]
  },
  {
   "cell_type": "code",
   "execution_count": null,
   "id": "35d49b0f-e71d-44ad-93ec-e2ce4777874f",
   "metadata": {},
   "outputs": [
    {
     "name": "stdout",
     "output_type": "stream",
     "text": [
      "10\n",
      "9\n",
      "8\n",
      "7\n",
      "6\n",
      "5\n",
      "4\n",
      "3\n",
      "2\n",
      "1\n"
     ]
    }
   ],
   "source": [
    "num = 10\n",
    "while num > 0:\n",
    "    print(num)\n",
    "    num = num -1"
   ]
  },
  {
   "cell_type": "markdown",
   "id": "dbb33cf4-c143-4292-b442-a22a9bc0779b",
   "metadata": {},
   "source": [
    "### Q.8 Reverse a for loop to display numbers from 10 to 1."
   ]
  },
  {
   "cell_type": "code",
   "execution_count": 1,
   "id": "749b53e7-c0d8-4f04-ad4e-7e7e82a92bb1",
   "metadata": {},
   "outputs": [
    {
     "name": "stdout",
     "output_type": "stream",
     "text": [
      "10\n",
      "9\n",
      "8\n",
      "7\n",
      "6\n",
      "5\n",
      "4\n",
      "3\n",
      "2\n",
      "1\n"
     ]
    }
   ],
   "source": [
    "for i in range(10,0,-1):\n",
    "    print(i)"
   ]
  },
  {
   "cell_type": "code",
   "execution_count": null,
   "id": "a3012037-25f2-4169-b367-7aa2bbe45363",
   "metadata": {},
   "outputs": [],
   "source": []
  },
  {
   "cell_type": "code",
   "execution_count": null,
   "id": "cb2dc79c-b33f-4ed1-ac1d-e7cce143f295",
   "metadata": {},
   "outputs": [],
   "source": []
  },
  {
   "cell_type": "code",
   "execution_count": null,
   "id": "ad6cb623-80bd-4bcc-a03d-848ac2bbb977",
   "metadata": {},
   "outputs": [],
   "source": []
  },
  {
   "cell_type": "code",
   "execution_count": null,
   "id": "7e8d51a4-d4bd-4981-82a0-4a7e140b19ad",
   "metadata": {},
   "outputs": [],
   "source": []
  },
  {
   "cell_type": "code",
   "execution_count": null,
   "id": "38854a0b-425a-4b50-8b69-606f06a5c303",
   "metadata": {},
   "outputs": [],
   "source": []
  }
 ],
 "metadata": {
  "kernelspec": {
   "display_name": "Python 3 (ipykernel)",
   "language": "python",
   "name": "python3"
  },
  "language_info": {
   "codemirror_mode": {
    "name": "ipython",
    "version": 3
   },
   "file_extension": ".py",
   "mimetype": "text/x-python",
   "name": "python",
   "nbconvert_exporter": "python",
   "pygments_lexer": "ipython3",
   "version": "3.10.8"
  }
 },
 "nbformat": 4,
 "nbformat_minor": 5
}
