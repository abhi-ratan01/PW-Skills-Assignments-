{
 "cells": [
  {
   "cell_type": "markdown",
   "id": "8e0f3dcd-896c-4b03-9e1c-561fb0257986",
   "metadata": {},
   "source": [
    "# Assignment 1"
   ]
  },
  {
   "cell_type": "markdown",
   "id": "05eb2074-70da-40da-bb06-548f27e23933",
   "metadata": {},
   "source": [
    "### Q1. Given an array of integers nums and an integer target, return indices of the two numbers such that they add up to target. You may assume that each input would have exactly one solution, and you may not use the same element twice.You can return the answer in any order.\n",
    "\n",
    "### **Example:**\n",
    "#### Input: nums = [2,7,11,15], target = 9\n",
    "#### Output0 [0,1]\n",
    "\n",
    "#### **Explanation:** Because nums[0] + nums[1] == 9, we return [0, 1][\n",
    "\n"
   ]
  },
  {
   "cell_type": "code",
   "execution_count": 15,
   "id": "8659c700-92be-4935-b7a1-a0322f981b64",
   "metadata": {},
   "outputs": [],
   "source": [
    "class Solution:\n",
    "    def twoSum(self, nums: list[int], target: int) -> list[int]:\n",
    "        hashmap = {}\n",
    "        for i in range(len(nums)):\n",
    "            hashmap[nums[i]] = i\n",
    "        for i in range(len(nums)):\n",
    "            complement = target - nums[i]\n",
    "            if complement in hashmap and hashmap[complement] != i:\n",
    "                return [i, hashmap[complement]] "
   ]
  },
  {
   "cell_type": "markdown",
   "id": "845cb9cb-e720-4ac9-b5fd-39ecdf487cbe",
   "metadata": {},
   "source": [
    "### Q2. Given an integer array nums and an integer val, remove all occurrences of val in nums in-place. The order of the elements may be changed. Then return the number of elements in nums which are not equal to val.\n",
    "\n",
    "#### Consider the number of elements in nums which are not equal to val be k, to get accepted, you need to do the following things:\n",
    "\n",
    "#### - Change the array nums such that the first k elements of nums contain the elements which are not equal to val. The remaining elements of nums are not important as well as the size of nums.\n",
    "#### - Return k.\n",
    "\n",
    "#### Example :\n",
    "##### Input: nums = [3,2,2,3], val = 3\n",
    "##### Output: 2, nums = [2,2,_*,_*]\n",
    "\n",
    "#### Explanation: Your function should return k = 2, with the first two elements of nums being 2. It does not matter what you leave beyond the returned k (hence they are underscores)"
   ]
  },
  {
   "cell_type": "code",
   "execution_count": 16,
   "id": "88f26845-22c9-4b3c-b9f3-a3627f384f1b",
   "metadata": {},
   "outputs": [],
   "source": [
    "class RemoveElement:\n",
    "    def removeElement(nums: list[int], val: int) -> int:\n",
    "        count = 0\n",
    "        for i in range(len(nums)):\n",
    "            if nums[i] != val:\n",
    "                nums[count] = nums[i]\n",
    "                count += 1\n",
    "        return count"
   ]
  },
  {
   "cell_type": "markdown",
   "id": "f7aede34-3652-472e-99b5-ad9f5d3edd0f",
   "metadata": {},
   "source": [
    "### Q3. Given a sorted array of distinct integers and a target value, return the index if the target is found. If not, return the index where it would be if it were inserted in order.\n",
    "\n",
    "#### You must write an algorithm with O(log n) runtime complexity.\n",
    "\n",
    "#### Example 1:\n",
    "#### Input: nums = [1,3,5,6], target = 5\n",
    "\n",
    "#### Output: 2"
   ]
  },
  {
   "cell_type": "code",
   "execution_count": 17,
   "id": "c3b2c767-3796-4c94-ae8d-dd61d4e05dcc",
   "metadata": {},
   "outputs": [],
   "source": [
    "class Solution(object):\n",
    "    def searchInsert(self, nums, target):\n",
    "        start = 0\n",
    "        end = len(nums) - 1\n",
    "        \n",
    "        while (start <= end):\n",
    "            mid = (start + end)/2\n",
    "            if nums[mid] == target:\n",
    "                return mid\n",
    "            \n",
    "            elif target > nums[mid]:\n",
    "                start = mid + 1\n",
    "                 \n",
    "            else:\n",
    "                end = mid -1\n",
    "                \n",
    "        return end + 1"
   ]
  },
  {
   "cell_type": "markdown",
   "id": "c5f91fe2-4e06-46c9-bc6b-f7fc80f1b72e",
   "metadata": {},
   "source": [
    "### Q4. You are given a large integer represented as an integer array digits, where each digits[i] is the ith digit of the integer. The digits are ordered from most significant to least significant in left-to-right order. The large integer does not contain any leading 0's.\n",
    "\n",
    "#### Increment the large integer by one and return the resulting array of digits.\n",
    "\n",
    "#### Example 1:\n",
    "#### Input: digits = [1,2,3]\n",
    "#### Output: [1,2,4]\n",
    "\n",
    "#### Explanation: The array represents the integer 123.\n",
    "\n",
    "#### Incrementing by one gives 123 + 1 = 124.\n",
    "#### Thus, the result should be [1,2,4].\n"
   ]
  },
  {
   "cell_type": "code",
   "execution_count": 18,
   "id": "8c0589b1-eff0-44c3-a01a-c8e3fb59f65f",
   "metadata": {},
   "outputs": [],
   "source": [
    "class Solution(object):\n",
    "    def plusOne(self, digits):\n",
    "       \n",
    "        digit_length = len(digits)\n",
    "        \n",
    "        i = digit_length - 1\n",
    "        \n",
    "        while digits[i] == 9 and i >= 0:\n",
    "            i -= 1\n",
    "        \n",
    "        if i == -1:\n",
    "            results = [0]*(digit_length + 1)\n",
    "            results[0] = 1\n",
    "            return results\n",
    "        \n",
    "        results = [0]*(digit_length)\n",
    "        \n",
    "        results[i] = digits[i] + 1\n",
    "        \n",
    "        for j in range(i-1, -1, -1):\n",
    "            results[j] = digits[j]\n",
    "        \n",
    "        return results"
   ]
  },
  {
   "cell_type": "markdown",
   "id": "875908d3-cdfb-4937-8dba-355b193a3705",
   "metadata": {},
   "source": [
    "### Q5. You are given two integer arrays nums1 and nums2, sorted in non-decreasing order, and two integers m and n, representing the number of elements in nums1 and nums2 respectively.\n",
    "\n",
    "#### Merge nums1 and nums2 into a single array sorted in non-decreasing order.\n",
    "\n",
    "#### The final sorted array should not be returned by the function, but instead be stored inside the array nums1. To accommodate this, nums1 has a length of m + n, where the first m elements denote the elements that should be merged, and the last n elements are set to 0 and should be ignored. nums2 has a length of n.\n",
    "\n",
    "#### Example 1:\n",
    "#### Input: nums1 = [1,2,3,0,0,0], m = 3, nums2 = [2,5,6], n = 3\n",
    "#### Output: [1,2,2,3,5,6]\n",
    "\n",
    "#### Explanation: The arrays we are merging are [1,2,3] and [2,5,6].\n",
    "#### The result of the merge is [1,2,2,3,5,6] with the underlined elements coming from nums1."
   ]
  },
  {
   "cell_type": "code",
   "execution_count": 19,
   "id": "ffacc474-f50b-4a4e-b26f-0ee477088c5c",
   "metadata": {},
   "outputs": [],
   "source": [
    "class Solution(object):\n",
    "    def merge(self, nums1, m, nums2, n):\n",
    "        i = int(m - 1)\n",
    "        j = int(n - 1)\n",
    "        k = int(m + n - 1)\n",
    "        \n",
    "        while (k >= 0):\n",
    "            if i>=0 and j>=0:\n",
    "                if(nums2[j] > nums1[i]):\n",
    "                    nums1[k] = nums2[j]\n",
    "                    k -= 1\n",
    "                    j -= 1\n",
    "                else:\n",
    "                    nums1[k] = nums1[i]\n",
    "                    k -= 1\n",
    "                    i -= 1\n",
    "            elif j >= 0:\n",
    "                nums1[k] = nums2[j]\n",
    "                k -= 1\n",
    "                j -= 1\n",
    "            else:\n",
    "                break"
   ]
  },
  {
   "cell_type": "markdown",
   "id": "04b22b06-61bd-4d08-8029-4f46e8fa174a",
   "metadata": {},
   "source": [
    "### Q6. Given an integer array nums, return true if any value appears at least twice in the array, and return false if every element is distinct.\n",
    "\n",
    "#### Example 1:\n",
    "#### Input: nums = [1,2,3,1]\n",
    "\n",
    "#### Output: true"
   ]
  },
  {
   "cell_type": "code",
   "execution_count": 20,
   "id": "8ba07c2b-6108-40e4-8662-4adc0f98103b",
   "metadata": {},
   "outputs": [],
   "source": [
    "class Solution(object):\n",
    "    def containsDuplicate(self, nums):\n",
    "        dup = 0\n",
    "        nums.sort()\n",
    "        \n",
    "        for i in range(1, len(nums)):\n",
    "            if nums[i] == nums[i - 1]:\n",
    "                dup += 1\n",
    "        return dup != 0"
   ]
  },
  {
   "cell_type": "markdown",
   "id": "7f1a796c-0baf-4416-b216-f8ff70a96c24",
   "metadata": {},
   "source": [
    "### Q7. Given an integer array nums, move all 0's to the end of it while maintaining the relative order of the nonzero elements.\n",
    "\n",
    "#### Note that you must do this in-place without making a copy of the array.\n",
    "\n",
    "#### Example 1:\n",
    "#### Input: nums = [0,1,0,3,12]\n",
    "#### Output: [1,3,12,0,0]"
   ]
  },
  {
   "cell_type": "code",
   "execution_count": 21,
   "id": "a76b69f1-5591-4df7-80e5-9707a94ba097",
   "metadata": {},
   "outputs": [],
   "source": [
    "class Solution:\n",
    "    def moveZeroes(self, nums):\n",
    "        pos = 0\n",
    "        \n",
    "        for i in range(len(nums)):\n",
    "            el = nums[i]\n",
    "            if el != 0:\n",
    "                nums[pos], nums[i] = nums[i], nums[pos]\n",
    "                pos += 1"
   ]
  },
  {
   "cell_type": "markdown",
   "id": "788db3a5-12e7-45cd-be56-e1c0aa060e2e",
   "metadata": {},
   "source": [
    "### Q8. You have a set of integers s, which originally contains all the numbers from 1 to n. Unfortunately, due to some error, one of the numbers in s got duplicated to another number in the set, which results in repetition of one number and loss of another number.\n",
    "\n",
    "#### You are given an integer array nums representing the data status of this set after the error.\n",
    "\n",
    "#### Find the number that occurs twice and the number that is missing and return them in the form of an array.\n",
    "\n",
    "#### Example 1:\n",
    "#### Input: nums = [1,2,2,4]\n",
    "#### Output: [2,3]"
   ]
  },
  {
   "cell_type": "code",
   "execution_count": 22,
   "id": "1252c59b-2a57-486e-9602-b67efc0b0775",
   "metadata": {},
   "outputs": [],
   "source": [
    "class Solution:\n",
    "    def findErrorNums(self, nums: list[int]) -> list[int]:\n",
    "        N, dupe = len(nums), 0\n",
    "        seen, sumN = [0] * (N+1), N * (N+1) // 2\n",
    "        for num in nums:\n",
    "            sumN -= num\n",
    "            if seen[num]: dupe = num\n",
    "            seen[num] += 1\n",
    "        return [dupe, sumN + dupe]"
   ]
  },
  {
   "cell_type": "code",
   "execution_count": null,
   "id": "5991d902-3d71-4232-9690-473375ac5d78",
   "metadata": {},
   "outputs": [],
   "source": []
  },
  {
   "cell_type": "code",
   "execution_count": null,
   "id": "c380cbe7-81ce-473d-bdba-1061c957f4b0",
   "metadata": {},
   "outputs": [],
   "source": []
  }
 ],
 "metadata": {
  "kernelspec": {
   "display_name": "Python 3 (ipykernel)",
   "language": "python",
   "name": "python3"
  },
  "language_info": {
   "codemirror_mode": {
    "name": "ipython",
    "version": 3
   },
   "file_extension": ".py",
   "mimetype": "text/x-python",
   "name": "python",
   "nbconvert_exporter": "python",
   "pygments_lexer": "ipython3",
   "version": "3.10.8"
  }
 },
 "nbformat": 4,
 "nbformat_minor": 5
}
